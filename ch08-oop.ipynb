{
 "cells": [
  {
   "cell_type": "markdown",
   "metadata": {},
   "source": [
    "## su - root\n",
    "## centos: yum install git\n",
    "## ubuntu: apt-get install git\n",
    "## mac: brew install git\n",
    "## git clone https://github.com/ricket-sjtu/bi028\n",
    "\n",
    "## cd bi028\n",
    "## jupyter notebook"
   ]
  },
  {
   "cell_type": "markdown",
   "metadata": {
    "collapsed": true,
    "nbpresent": {
     "id": "41e523db-375f-40e4-b802-e9cb6d19f089"
    }
   },
   "source": [
    "# Chapter 08: Python Object Oriented Programming (OOP)\n",
    "___\n",
    "\n",
    "For this lesson we will construct our knowledege of OOP in Python by building on the following topics:\n",
    "\n",
    "* Objects (对象的定义)\n",
    "* Using the *class* keyword (如何使用关键字\"class\"创建类)\n",
    "* Creating class attributes (创建类属性)\n",
    "* Creating methods in a class (创建类方法)\n",
    "* Learning about Inheritance (类的继承)\n",
    "* Learning about Special Methods for classes (类的特殊方法)\n",
    "\n",
    "Let‘s start with the basic Python objects. For example:"
   ]
  },
  {
   "cell_type": "code",
   "execution_count": 59,
   "metadata": {
    "collapsed": true
   },
   "outputs": [],
   "source": [
    "l = list([1,2,3])\n",
    "l.extend(l)"
   ]
  },
  {
   "cell_type": "code",
   "execution_count": 60,
   "metadata": {
    "collapsed": false
   },
   "outputs": [
    {
     "data": {
      "text/plain": [
       "[1, 2, 3, 1, 2, 3]"
      ]
     },
     "execution_count": 60,
     "metadata": {},
     "output_type": "execute_result"
    }
   ],
   "source": [
    "l"
   ]
  },
  {
   "cell_type": "markdown",
   "metadata": {
    "nbpresent": {
     "id": "fa599342-a519-44d1-9e96-8e82a595ea9e"
    }
   },
   "source": [
    "Remember how we could call methods on a list?"
   ]
  },
  {
   "cell_type": "code",
   "execution_count": 61,
   "metadata": {
    "collapsed": false,
    "nbpresent": {
     "id": "be1b0680-199a-4920-b75f-15d00923b595"
    }
   },
   "outputs": [
    {
     "data": {
      "text/plain": [
       "2"
      ]
     },
     "execution_count": 61,
     "metadata": {},
     "output_type": "execute_result"
    }
   ],
   "source": [
    "l.count(2)"
   ]
  },
  {
   "cell_type": "markdown",
   "metadata": {
    "nbpresent": {
     "id": "65dc9dc9-94f8-4083-a093-1995a8b07b9a"
    }
   },
   "source": [
    "What we will basically be doing in this chapter is to explore how we could create an Object type like a list. We've already learned about how to create functions. So lets explore Objects in general:\n",
    "\n",
    "## 1. Objects (对象的定义)\n",
    "In Python, *everything is an object*. Remember from previous lectures we can use type() to check the type of object something is:"
   ]
  },
  {
   "cell_type": "code",
   "execution_count": 4,
   "metadata": {
    "collapsed": false,
    "nbpresent": {
     "id": "af98970a-3cf8-4dfd-80cf-8ca798b5f855"
    }
   },
   "outputs": [
    {
     "name": "stdout",
     "output_type": "stream",
     "text": [
      "<type 'int'>\n",
      "<type 'list'>\n",
      "<type 'tuple'>\n",
      "<type 'dict'>\n"
     ]
    }
   ],
   "source": [
    "print type(1)\n",
    "print type([])\n",
    "print type(())\n",
    "print type({})"
   ]
  },
  {
   "cell_type": "markdown",
   "metadata": {
    "nbpresent": {
     "id": "187ccd95-2f1e-4bd5-b45d-9d6299f8f3be"
    }
   },
   "source": [
    "## 2. How to create our own `class` (创建类)\n",
    "\n",
    "The user-defined objects are created using the keyword `class`. The class is a blueprint (abstract) of an object. \n",
    "* From classes we can construct instances 从类创建实例. \n",
    "* An instance is a specific object created from a particular class. \n",
    "* For example, above we created the object 'l' which was an instance of a list object. \n",
    "\n",
    "Let's see how we use **class**:"
   ]
  },
  {
   "cell_type": "code",
   "execution_count": 73,
   "metadata": {
    "collapsed": false,
    "nbpresent": {
     "id": "2590e9ea-72ca-4f17-9bc8-fec2e180645c"
    }
   },
   "outputs": [
    {
     "name": "stdout",
     "output_type": "stream",
     "text": [
      "<class '__main__.Sample'>\n"
     ]
    }
   ],
   "source": [
    "# Create a new object type called Sample\n",
    "class Sample(object):\n",
    "    pass\n",
    "\n",
    "# Instance of Sample\n",
    "x = Sample()\n",
    "\n",
    "print type(x)"
   ]
  },
  {
   "cell_type": "markdown",
   "metadata": {
    "nbpresent": {
     "id": "2243bd17-cfc1-4f27-970d-f7a7e1c8a2b9"
    }
   },
   "source": [
    "By convention we give classes a name that starts with a capital letter. Note how x is now the reference to our new instance of a Sample class. In other words, we **instantiate (实例化)** the Sample class.\n",
    "\n",
    "Inside of the class we currently just have pass. But we can define class attributes and methods.\n",
    "\n",
    "* An **attribute （属性）** is a characteristic of an object.\n",
    "* A **method (方法)** is an operation we can perform with the object.\n",
    "\n",
    "For example we can create a class called __Dog__.\n",
    "* An attribute of a dog may be its __breed__ or its __name__, \n",
    "* while a method of a dog may be defined by a __.bark()__ method which returns a sound.\n",
    "\n",
    "Let's get a better understanding of attributes through an example."
   ]
  },
  {
   "cell_type": "markdown",
   "metadata": {
    "nbpresent": {
     "id": "9a2dc48c-805b-471a-bb8e-5746f1275d22"
    }
   },
   "source": [
    "## 3. Attributes (对象属性)\n",
    "\n",
    "* __Public attributes (共有属性)__ : can be accessed both _inside_ or _outside_ the class.\n",
    "* __Built-in attributes (内置属性)__: automatically created during the instantiation of a class object, e.g `__dict__` and `__module__`\n",
    "* __Private attributes (私有属性)__: can only be accessed inside the class. The attribute names are starting with `__` (double underscore signs)"
   ]
  },
  {
   "cell_type": "markdown",
   "metadata": {
    "nbpresent": {
     "id": "690d1f4b-3ddf-4614-a1a3-34a254a02c86"
    }
   },
   "source": [
    "### 3.1 Create Attributes (对象的创建)\n",
    "The syntax for creating an attribute is:\n",
    "    \n",
    "    self.attribute = something\n",
    "    \n",
    "There is a special method called:\n",
    "\n",
    "    __init__()\n",
    "\n",
    "This method is used to initialize the attributes of an object. For example:"
   ]
  },
  {
   "cell_type": "code",
   "execution_count": 3,
   "metadata": {
    "collapsed": true,
    "nbpresent": {
     "id": "ed405c00-cadf-4e71-9ecd-01eaf9e952c9"
    }
   },
   "outputs": [],
   "source": [
    "class Dog(object):\n",
    "    def __init__(self,breed):\n",
    "        self.__breed = breed\n",
    "    \n",
    "    def getBreed(self):\n",
    "        return self.__breed\n",
    "        \n",
    "sam = Dog(breed='Lab')\n",
    "frank = Dog(breed='Huskie')\n",
    "print sam.__breed # acess failed, due to the private property\n",
    "print frank.__breed # access failed due to the private property\n",
    "\n",
    "print sam.getBreed() # work!\n",
    "print frank.getBreed() # work!"
   ]
  },
  {
   "cell_type": "markdown",
   "metadata": {
    "nbpresent": {
     "id": "c7fdfc6d-8c06-4835-8236-24aaeb438388"
    }
   },
   "source": [
    "Let's break down what we have above.The special method \n",
    "\n",
    "    __init__() \n",
    "is called automatically right after the object has been created:\n",
    "\n",
    "    def __init__(self, breed):\n",
    "Each method in a class definition begins with a reference to the instance object, which is by convention named __`self`__. The `breed` is the argument. The value is passed during the class instantiation.\n",
    "\n",
    "     self.breed = breed"
   ]
  },
  {
   "cell_type": "markdown",
   "metadata": {
    "nbpresent": {
     "id": "20f5b1c6-d522-42a9-b6f5-a57ef3af7efa"
    }
   },
   "source": [
    "Now we have created two instances of the Dog class. With two breed types, we can then access these attributes like this:"
   ]
  },
  {
   "cell_type": "code",
   "execution_count": 11,
   "metadata": {
    "collapsed": false,
    "nbpresent": {
     "id": "7c50f0fd-976b-4201-aedf-fa3218c8a98f"
    }
   },
   "outputs": [
    {
     "data": {
      "text/plain": [
       "'Lab'"
      ]
     },
     "execution_count": 11,
     "metadata": {},
     "output_type": "execute_result"
    }
   ],
   "source": [
    "sam.breed"
   ]
  },
  {
   "cell_type": "code",
   "execution_count": 9,
   "metadata": {
    "collapsed": false,
    "nbpresent": {
     "id": "9c91db2c-8f8b-4218-a662-93d2379852d8"
    }
   },
   "outputs": [
    {
     "data": {
      "text/plain": [
       "'Huskie'"
      ]
     },
     "execution_count": 9,
     "metadata": {},
     "output_type": "execute_result"
    }
   ],
   "source": [
    "frank.breed"
   ]
  },
  {
   "cell_type": "markdown",
   "metadata": {
    "nbpresent": {
     "id": "83e665a2-5353-4185-8218-4385ab24cf04"
    }
   },
   "source": [
    "Note that we don't have any parenthesis after `breed`, because it is an attribute and doesn't take any arguments.\n",
    "\n",
    "### 3.2 Class Object Attributes (类对象属性)\n",
    "\n",
    "In Python there are also __class object attributes (类对象属性)__.\n",
    "* These Class Object Attributes are **shared** by any instance of the class.\n",
    "* For example, we could create the attribute __species__ for the Dog class. Dogs (regardless of their breed,name, or other atributes will always be mammals.\n",
    "\n",
    "We apply this logic in the following manner:"
   ]
  },
  {
   "cell_type": "code",
   "execution_count": 4,
   "metadata": {
    "collapsed": false,
    "nbpresent": {
     "id": "aaffd98a-849c-4f91-a464-bfa1883d0e06"
    }
   },
   "outputs": [],
   "source": [
    "class Dog(object):\n",
    "    \n",
    "    # Class Object Attribute\n",
    "    species = 'mammal'\n",
    "    \n",
    "    def __init__(self, breed, name):\n",
    "        self.breed = breed   # instance attribute\n",
    "        self.name = name # instance attribute"
   ]
  },
  {
   "cell_type": "code",
   "execution_count": 5,
   "metadata": {
    "collapsed": true,
    "nbpresent": {
     "id": "a94a8427-f967-4b09-bfb5-68a6fe5acd49"
    }
   },
   "outputs": [],
   "source": [
    "sam = Dog('Lab','Sam')"
   ]
  },
  {
   "cell_type": "code",
   "execution_count": 6,
   "metadata": {
    "collapsed": false,
    "nbpresent": {
     "id": "fc013420-c63d-4ecd-b790-3036fbfbf067"
    }
   },
   "outputs": [
    {
     "data": {
      "text/plain": [
       "'Sam'"
      ]
     },
     "execution_count": 6,
     "metadata": {},
     "output_type": "execute_result"
    }
   ],
   "source": [
    "sam.name"
   ]
  },
  {
   "cell_type": "markdown",
   "metadata": {
    "nbpresent": {
     "id": "598e9a6e-0e2f-4d9d-9fb2-7d5bb8dc31ff"
    }
   },
   "source": [
    "Note that the **Class Object Attribute is defined outside of any methods in the class**. Also by convention, we place them first before the init.\n",
    "\n",
    "类对象属性在定义类方法外部。"
   ]
  },
  {
   "cell_type": "code",
   "execution_count": 7,
   "metadata": {
    "collapsed": false,
    "nbpresent": {
     "id": "6dc6fda7-46da-4314-8059-422e7ecc11f5"
    }
   },
   "outputs": [
    {
     "data": {
      "text/plain": [
       "'mammal'"
      ]
     },
     "execution_count": 7,
     "metadata": {},
     "output_type": "execute_result"
    }
   ],
   "source": [
    "sam.species"
   ]
  },
  {
   "cell_type": "markdown",
   "metadata": {
    "nbpresent": {
     "id": "2d809221-ea7c-417e-9435-76085285c2db"
    }
   },
   "source": [
    "### 3.3 Special attributes"
   ]
  },
  {
   "cell_type": "markdown",
   "metadata": {
    "nbpresent": {
     "id": "a4346b1c-e6fd-4db2-b4cb-4119de073e1e"
    }
   },
   "source": [
    "In Python, the attributes are stored in `__dict__` attribute of the object."
   ]
  },
  {
   "cell_type": "code",
   "execution_count": 74,
   "metadata": {
    "collapsed": false,
    "nbpresent": {
     "id": "da703a99-a608-4c13-b6f4-7a2a9e4160c8"
    }
   },
   "outputs": [],
   "source": [
    "class Bird(object):\n",
    "    '''A class Bird.'''\n",
    "    feather = True\n",
    "    \n",
    "class Chicken(Bird):\n",
    "    '''A class Chicken.'''\n",
    "    fly = False\n",
    "    def __init__(self, age=2):\n",
    "        self.age = age\n",
    "        \n",
    "chick = Chicken(3)"
   ]
  },
  {
   "cell_type": "code",
   "execution_count": 75,
   "metadata": {
    "collapsed": false
   },
   "outputs": [
    {
     "name": "stdout",
     "output_type": "stream",
     "text": [
      "Help on class Bird in module __main__:\n",
      "\n",
      "class Bird(__builtin__.object)\n",
      " |  A class Bird.\n",
      " |  \n",
      " |  Data descriptors defined here:\n",
      " |  \n",
      " |  __dict__\n",
      " |      dictionary for instance variables (if defined)\n",
      " |  \n",
      " |  __weakref__\n",
      " |      list of weak references to the object (if defined)\n",
      " |  \n",
      " |  ----------------------------------------------------------------------\n",
      " |  Data and other attributes defined here:\n",
      " |  \n",
      " |  feather = True\n",
      "\n"
     ]
    }
   ],
   "source": [
    "help(Bird)"
   ]
  },
  {
   "cell_type": "code",
   "execution_count": 2,
   "metadata": {
    "collapsed": false
   },
   "outputs": [
    {
     "name": "stdout",
     "output_type": "stream",
     "text": [
      "class Bird: {'__dict__': <attribute '__dict__' of 'Bird' objects>, '__module__': '__main__', '__weakref__': <attribute '__weakref__' of 'Bird' objects>, 'feather': True, '__doc__': 'A class Bird.'}\n"
     ]
    }
   ],
   "source": [
    "print \"class Bird:\", Bird.__dict__"
   ]
  },
  {
   "cell_type": "code",
   "execution_count": 76,
   "metadata": {
    "collapsed": false
   },
   "outputs": [
    {
     "name": "stdout",
     "output_type": "stream",
     "text": [
      "class Chicken: {'fly': False, '__module__': '__main__', '__doc__': 'A class Chicken.', '__init__': <function __init__ at 0x7fe57003d578>}\n"
     ]
    }
   ],
   "source": [
    "print \"class Chicken:\", Chicken.__dict__"
   ]
  },
  {
   "cell_type": "code",
   "execution_count": 4,
   "metadata": {
    "collapsed": false
   },
   "outputs": [
    {
     "name": "stdout",
     "output_type": "stream",
     "text": [
      "object chick:  {'age': 3}\n"
     ]
    }
   ],
   "source": [
    "print \"object chick: \", chick.__dict__"
   ]
  },
  {
   "cell_type": "code",
   "execution_count": null,
   "metadata": {
    "collapsed": true
   },
   "outputs": [],
   "source": []
  },
  {
   "cell_type": "code",
   "execution_count": 5,
   "metadata": {
    "collapsed": false
   },
   "outputs": [
    {
     "name": "stdout",
     "output_type": "stream",
     "text": [
      "True\n"
     ]
    }
   ],
   "source": [
    "print chick.feather"
   ]
  },
  {
   "cell_type": "code",
   "execution_count": 6,
   "metadata": {
    "collapsed": false
   },
   "outputs": [
    {
     "name": "stdout",
     "output_type": "stream",
     "text": [
      "False\n"
     ]
    }
   ],
   "source": [
    "print chick.fly"
   ]
  },
  {
   "cell_type": "markdown",
   "metadata": {
    "nbpresent": {
     "id": "c0071c65-a815-444d-9248-feaa75b3dd01"
    }
   },
   "source": [
    "## 4. Methods (方法)\n",
    "\n",
    "__Methods are functions defined inside the body of a class__. They are used to perform operations with the attributes of our objects. Methods are essential in encapsulation concept of the OOP paradigm. This is essential in dividing responsibilities in programming, especially in large applications.\n",
    "\n",
    "Similarly, methods can be classified as:\n",
    "* __Public methods (公有方法)__: can be accessed both inside and outside the class, with the first conventional argument being `self`.\n",
    "* __Private methods (私有方法)__: named starting by `__`, can only be accessed inside the class, with the conventional first argument being `self`..\n",
    "* __Class methods (类方法)__: decorated by `@classmethod`, with the conventional first argument being `cls`.\n",
    "* __Static methods (静态方法)__: decorated by `@staticmethod`, used like a simple function."
   ]
  },
  {
   "cell_type": "markdown",
   "metadata": {
    "nbpresent": {
     "id": "9b1f1a2c-92b2-425f-962f-0f5615378c4c"
    }
   },
   "source": [
    "### 4.1 Creating methods (创建方法)\n",
    "\n",
    "You can basically think of methods as functions acting on an Object that take the Object itself into account through its *self* argument.\n",
    "\n",
    "Lets go through an example of creating a Circle class:"
   ]
  },
  {
   "cell_type": "code",
   "execution_count": 77,
   "metadata": {
    "collapsed": false,
    "nbpresent": {
     "id": "e8b3ad07-9618-41f5-9752-4ac10b0617ab"
    }
   },
   "outputs": [],
   "source": [
    "class Circle(object):\n",
    "    pi = 3.14\n",
    "\n",
    "    # Circle get instantiaed with a radius (default is 1), here __radius is a private attribute\n",
    "    def __init__(self, radius=1):\n",
    "        self.radius = radius \n",
    "\n",
    "    # Area method calculates the area. Note the use of self.\n",
    "    def area(self):\n",
    "        return Circle.pi * self.radius **2\n",
    "\n",
    "    # Method for resetting Radius\n",
    "    def setRadius(self, radius):\n",
    "        self.radius = radius\n",
    "\n",
    "    # Method for getting radius\n",
    "    def getRadius(self):\n",
    "        return self.radius"
   ]
  },
  {
   "cell_type": "code",
   "execution_count": 78,
   "metadata": {
    "collapsed": true
   },
   "outputs": [],
   "source": [
    "c = Circle()\n",
    "c.setRadius(2)"
   ]
  },
  {
   "cell_type": "code",
   "execution_count": 79,
   "metadata": {
    "collapsed": false
   },
   "outputs": [
    {
     "name": "stdout",
     "output_type": "stream",
     "text": [
      "2\n"
     ]
    }
   ],
   "source": [
    "print c.radius"
   ]
  },
  {
   "cell_type": "code",
   "execution_count": 80,
   "metadata": {
    "collapsed": true
   },
   "outputs": [],
   "source": [
    "c.radius = 3"
   ]
  },
  {
   "cell_type": "code",
   "execution_count": 81,
   "metadata": {
    "collapsed": false
   },
   "outputs": [
    {
     "name": "stdout",
     "output_type": "stream",
     "text": [
      "Radius is:  3\n"
     ]
    }
   ],
   "source": [
    "print 'Radius is: ',c.getRadius()"
   ]
  },
  {
   "cell_type": "code",
   "execution_count": 82,
   "metadata": {
    "collapsed": false
   },
   "outputs": [
    {
     "name": "stdout",
     "output_type": "stream",
     "text": [
      "Area is: 28.26\n"
     ]
    }
   ],
   "source": [
    "print 'Area is: ' + str(c.area())"
   ]
  },
  {
   "cell_type": "markdown",
   "metadata": {
    "nbpresent": {
     "id": "4ce48ebc-2a52-4415-9b6b-a9641ce40537"
    }
   },
   "source": [
    "Great! Notice how we used self. notation to reference attributes of the class within the method calls. Review how the code above works and try creating your own method"
   ]
  },
  {
   "cell_type": "markdown",
   "metadata": {
    "nbpresent": {
     "id": "169137fa-239c-46a4-bbbb-ef7ba373a04a"
    }
   },
   "source": [
    "### 4.2 Class method and static method (类方法与静态方法)\n",
    "\n",
    "`@classmethod` and `@staticmethod` are two types of decorator functions"
   ]
  },
  {
   "cell_type": "markdown",
   "metadata": {
    "nbpresent": {
     "id": "63cebdaf-44b4-4b62-8ec7-e8b27d3f4643"
    }
   },
   "source": [
    "__`@classmethod`__ means: when this method is called, we pass the class as the first argument instead of the instance of that class (as we normally do with methods). This means you can use the class and its properties inside that method rather than a particular instance.\n",
    "\n",
    "__`@staticmethod`__ means: when this method is called, we don't pass an instance of the class to it (as we do with normal methods). This means you can put a function inside a class but you can't access the instance of that class (this is useful when your method does not use the instance)."
   ]
  },
  {
   "cell_type": "code",
   "execution_count": 72,
   "metadata": {
    "collapsed": true,
    "nbpresent": {
     "id": "17cc3a00-3080-4ffe-a2e9-d1d787fd17c7"
    }
   },
   "outputs": [],
   "source": [
    "class Foo(object):\n",
    "\n",
    "    def a_normal_method(self, arg_1, kwarg_2=None):\n",
    "        '''\n",
    "        Return a value that is a function of the instance with its\n",
    "        attributes, and other arguments such as arg_1 and kwarg2\n",
    "        '''\n",
    "\n",
    "    @staticmethod\n",
    "    def a_static_method(arg_0):\n",
    "        '''\n",
    "        Return a value that is a function of arg_0. It does not know the \n",
    "        instance or class it is called from.\n",
    "        '''\n",
    "\n",
    "    @classmethod\n",
    "    def a_class_method(cls, arg1):\n",
    "        '''\n",
    "        Return a value that is a function of the class and other arguments.\n",
    "        respects subclassing, it is called with the class it is called from.\n",
    "        '''"
   ]
  },
  {
   "cell_type": "code",
   "execution_count": 83,
   "metadata": {
    "collapsed": true,
    "nbpresent": {
     "id": "fecd7f26-4fae-4c0d-94b4-6bad90f77ba5"
    }
   },
   "outputs": [],
   "source": [
    "class MyClass:\n",
    "    def instancemethod(self):\n",
    "        return 'instance method called', self\n",
    "\n",
    "    @classmethod\n",
    "    def classmethod(cls):\n",
    "        return 'class method called', cls\n",
    "\n",
    "    @staticmethod\n",
    "    def staticmethod():\n",
    "        return 'static method called'"
   ]
  },
  {
   "cell_type": "code",
   "execution_count": 84,
   "metadata": {
    "collapsed": true
   },
   "outputs": [],
   "source": [
    "myclass = MyClass()"
   ]
  },
  {
   "cell_type": "code",
   "execution_count": 85,
   "metadata": {
    "collapsed": false
   },
   "outputs": [
    {
     "data": {
      "text/plain": [
       "('instance method called', <__main__.MyClass instance at 0x7fe570040a28>)"
      ]
     },
     "execution_count": 85,
     "metadata": {},
     "output_type": "execute_result"
    }
   ],
   "source": [
    "myclass.instancemethod()"
   ]
  },
  {
   "cell_type": "code",
   "execution_count": 23,
   "metadata": {
    "collapsed": false
   },
   "outputs": [
    {
     "data": {
      "text/plain": [
       "('class method called', <class __main__.MyClass at 0x7fe5700c2870>)"
      ]
     },
     "execution_count": 23,
     "metadata": {},
     "output_type": "execute_result"
    }
   ],
   "source": [
    "myclass.classmethod()"
   ]
  },
  {
   "cell_type": "code",
   "execution_count": 24,
   "metadata": {
    "collapsed": false
   },
   "outputs": [
    {
     "data": {
      "text/plain": [
       "'static method called'"
      ]
     },
     "execution_count": 24,
     "metadata": {},
     "output_type": "execute_result"
    }
   ],
   "source": [
    "myclass.staticmethod()"
   ]
  },
  {
   "cell_type": "code",
   "execution_count": 86,
   "metadata": {
    "collapsed": false
   },
   "outputs": [
    {
     "ename": "TypeError",
     "evalue": "unbound method instancemethod() must be called with MyClass instance as first argument (got nothing instead)",
     "output_type": "error",
     "traceback": [
      "\u001b[0;31m---------------------------------------------------------------------------\u001b[0m",
      "\u001b[0;31mTypeError\u001b[0m                                 Traceback (most recent call last)",
      "\u001b[0;32m<ipython-input-86-5d09dca61a81>\u001b[0m in \u001b[0;36m<module>\u001b[0;34m()\u001b[0m\n\u001b[0;32m----> 1\u001b[0;31m \u001b[0mMyClass\u001b[0m\u001b[0;34m.\u001b[0m\u001b[0minstancemethod\u001b[0m\u001b[0;34m(\u001b[0m\u001b[0;34m)\u001b[0m\u001b[0;34m\u001b[0m\u001b[0m\n\u001b[0m",
      "\u001b[0;31mTypeError\u001b[0m: unbound method instancemethod() must be called with MyClass instance as first argument (got nothing instead)"
     ]
    }
   ],
   "source": [
    "MyClass.instancemethod()"
   ]
  },
  {
   "cell_type": "code",
   "execution_count": 87,
   "metadata": {
    "collapsed": false
   },
   "outputs": [
    {
     "data": {
      "text/plain": [
       "'static method called'"
      ]
     },
     "execution_count": 87,
     "metadata": {},
     "output_type": "execute_result"
    }
   ],
   "source": [
    "MyClass.staticmethod()"
   ]
  },
  {
   "cell_type": "code",
   "execution_count": 88,
   "metadata": {
    "collapsed": false
   },
   "outputs": [
    {
     "data": {
      "text/plain": [
       "('class method called', <class __main__.MyClass at 0x7fe570025c18>)"
      ]
     },
     "execution_count": 88,
     "metadata": {},
     "output_type": "execute_result"
    }
   ],
   "source": [
    "MyClass.classmethod()"
   ]
  },
  {
   "cell_type": "markdown",
   "metadata": {},
   "source": [
    "Therefore,\n",
    "* An instance method can only be called by an instance;\n",
    "* A class method can be called both by an instance or a class;\n",
    "* A static method can be called both by an instance or a class."
   ]
  },
  {
   "cell_type": "markdown",
   "metadata": {
    "nbpresent": {
     "id": "13345e5f-9b2f-4ac7-9613-d19663125299"
    }
   },
   "source": [
    "### 4.3 Inheritance (类的继承)\n",
    "\n",
    "Inheritance is a way to form new classes using classes that have already been defined. The newly formed classes are called __derived classes (派生类)__, the classes that we derive from are called __base classes (基类)__. Important benefits of inheritance are __code reuse (代码重用)__ and __reduction of complexity of a program (降低程序的复杂度)__. The derived classes (descendants) __override (重载)__ or __extend (扩展)__ the functionality of base classes (ancestors).\n",
    "\n",
    "__object__ is the ancestor of all the classes.\n",
    "\n",
    "Lets see an example by incorporating our previous work on the Dog class:"
   ]
  },
  {
   "cell_type": "code",
   "execution_count": 2,
   "metadata": {
    "collapsed": true,
    "nbpresent": {
     "id": "5ca6d4ff-e6fa-46d7-b1b0-a15be2a1e3f7"
    }
   },
   "outputs": [],
   "source": [
    "class Animal(object):\n",
    "    def __init__(self):\n",
    "        print \"Animal created\"\n",
    "\n",
    "    def whoAmI(self):\n",
    "        print \"Animal\"\n",
    "\n",
    "    def eat(self):\n",
    "        print \"Eating\"\n",
    "\n",
    "\n",
    "class Dog(Animal):\n",
    "    def __init__(self):\n",
    "        Animal.__init__(self)\n",
    "        print \"Dog created\"\n",
    "\n",
    "    def whoAmI(self):\n",
    "        print \"Dog\"\n",
    "\n",
    "    def bark(self):\n",
    "        print \"Woof!\""
   ]
  },
  {
   "cell_type": "code",
   "execution_count": 10,
   "metadata": {
    "collapsed": false,
    "nbpresent": {
     "id": "447afee6-8a6d-425a-8e4e-09a106888476"
    }
   },
   "outputs": [
    {
     "name": "stdout",
     "output_type": "stream",
     "text": [
      "Animal created\n",
      "Dog created\n"
     ]
    }
   ],
   "source": [
    "d = Dog()"
   ]
  },
  {
   "cell_type": "code",
   "execution_count": 25,
   "metadata": {
    "collapsed": false,
    "nbpresent": {
     "id": "c671e03c-0506-4721-982f-29a258cd8df7"
    }
   },
   "outputs": [
    {
     "name": "stdout",
     "output_type": "stream",
     "text": [
      "Dog\n"
     ]
    }
   ],
   "source": [
    "d.whoAmI()"
   ]
  },
  {
   "cell_type": "code",
   "execution_count": 26,
   "metadata": {
    "collapsed": false,
    "nbpresent": {
     "id": "b7fa1f45-fcd8-4004-90ab-0e11bd8751d7"
    }
   },
   "outputs": [
    {
     "name": "stdout",
     "output_type": "stream",
     "text": [
      "Eating\n"
     ]
    }
   ],
   "source": [
    "d.eat()"
   ]
  },
  {
   "cell_type": "code",
   "execution_count": 27,
   "metadata": {
    "collapsed": false,
    "nbpresent": {
     "id": "4b8e5da4-93fe-4587-9b5e-82ce7a5e4176"
    }
   },
   "outputs": [
    {
     "name": "stdout",
     "output_type": "stream",
     "text": [
      "Woof!\n"
     ]
    }
   ],
   "source": [
    "d.bark()"
   ]
  },
  {
   "cell_type": "markdown",
   "metadata": {
    "nbpresent": {
     "id": "df2a30a2-446b-4b2f-b99b-8185c1a58880"
    }
   },
   "source": [
    "In this example, we have two classes: Animal and Dog. The Animal is the base class, the Dog is the derived class. \n",
    "\n",
    "The derived class inherits the functionality of the base class. \n",
    "\n",
    "* It is shown by the eat() method. \n",
    "\n",
    "The derived class modifies existing behaviour of the base class.\n",
    "\n",
    "* shown by the whoAmI() method. \n",
    "\n",
    "Finally, the derived class extends the functionality of the base class, by defining a new bark() method."
   ]
  },
  {
   "cell_type": "markdown",
   "metadata": {
    "nbpresent": {
     "id": "9d56058f-ba78-42bc-8fac-69942358c893"
    }
   },
   "source": [
    "### 4.4 Special Methods (特殊方法)\n",
    "Finally let's go over some special methods. Classes in Python can implement certain operations with special method names. These methods are not actually called directly but by Python specific language syntax. For example let's create a Book class:"
   ]
  },
  {
   "cell_type": "code",
   "execution_count": 96,
   "metadata": {
    "collapsed": true,
    "nbpresent": {
     "id": "fc142996-d9f3-40b1-8e25-985d30eb36a4"
    }
   },
   "outputs": [],
   "source": [
    "class Book(object):\n",
    "    def __init__(self, title, author, pages):\n",
    "        print \"A book is created\"\n",
    "        self.title = title\n",
    "        self.author = author\n",
    "        self.pages = pages\n",
    "        \n",
    "    def __repr__(self):\n",
    "        return \"A book named {} with {} pages written by {}\".format(\n",
    "                        self.title, self.pages, self.author)\n",
    "\n",
    "    def __str__(self):\n",
    "        return \"Title:%s , author:%s, pages:%s \" %(self.title, \n",
    "                                    self.author, self.pages)\n",
    "\n",
    "    def __len__(self):                  # len\n",
    "        return self.pages\n",
    "\n",
    "    def __del__(self):                  # del\n",
    "        print \"A book is destroyed\"\n",
    "        \n",
    "    def __add__(self, other):\n",
    "        return Book(self.title + other.title, \n",
    "                    self.author + other.author,\n",
    "                   self.pages + other.pages)\n",
    "    \n",
    "    def __sub__\n",
    "        "
   ]
  },
  {
   "cell_type": "code",
   "execution_count": 97,
   "metadata": {
    "collapsed": false
   },
   "outputs": [
    {
     "name": "stdout",
     "output_type": "stream",
     "text": [
      "A book is created\n",
      "A book is created\n",
      "A book is created\n",
      "500\n",
      "JohnMarry\n",
      "Title:this bookother book , author:JohnMarry, pages:500 \n"
     ]
    }
   ],
   "source": [
    "book1 = Book(\"this book\", \"John\", 300)\n",
    "book2 = Book(\"other book\", \"Marry\", 200)\n",
    "book3 = book1 + book2\n",
    "print book3.pages\n",
    "print book3.author\n",
    "print book3"
   ]
  },
  {
   "cell_type": "code",
   "execution_count": 91,
   "metadata": {
    "collapsed": false,
    "nbpresent": {
     "id": "9fc8c877-2596-4e5b-90bf-85a96f38b92a"
    }
   },
   "outputs": [
    {
     "name": "stdout",
     "output_type": "stream",
     "text": [
      "A book is created\n"
     ]
    }
   ],
   "source": [
    "book = Book(\"Python Rocks!\", \"Jose Portilla\", 159) # will call __init__() method"
   ]
  },
  {
   "cell_type": "code",
   "execution_count": 92,
   "metadata": {
    "collapsed": false
   },
   "outputs": [
    {
     "data": {
      "text/plain": [
       "A book named Python Rocks! with 159 pages written by Jose Portilla"
      ]
     },
     "execution_count": 92,
     "metadata": {},
     "output_type": "execute_result"
    }
   ],
   "source": [
    "book                         # will call __repr__() method"
   ]
  },
  {
   "cell_type": "code",
   "execution_count": 93,
   "metadata": {
    "collapsed": false
   },
   "outputs": [
    {
     "name": "stdout",
     "output_type": "stream",
     "text": [
      "Title:Python Rocks! , author:Jose Portilla, pages:159 \n"
     ]
    }
   ],
   "source": [
    "#Special Methods\n",
    "print book                   # will call __str__() method"
   ]
  },
  {
   "cell_type": "code",
   "execution_count": 94,
   "metadata": {
    "collapsed": false
   },
   "outputs": [
    {
     "name": "stdout",
     "output_type": "stream",
     "text": [
      "159\n"
     ]
    }
   ],
   "source": [
    "print len(book)              # will call __len__() method "
   ]
  },
  {
   "cell_type": "code",
   "execution_count": 95,
   "metadata": {
    "collapsed": true
   },
   "outputs": [],
   "source": [
    "del book                     # will call __del__() method"
   ]
  },
  {
   "cell_type": "markdown",
   "metadata": {
    "nbpresent": {
     "id": "185ec221-245b-45a7-8527-50d5784c23fa"
    }
   },
   "source": [
    "    The __init__(), __str__(), __len__() and the __del__() methods.\n",
    "These special methods are defined by their use of double underscores. They allow us to use Python specific functions on objects created through our class.\n",
    "\n",
    "Some other special methods include:\n",
    "\n",
    "    __add__(), __sub__(), __mul__(), __div__().\n",
    "This special methods will define the operators like `+`, `-`, `*`, `/` and etc.."
   ]
  },
  {
   "cell_type": "markdown",
   "metadata": {
    "nbpresent": {
     "id": "3f5471d2-2caf-45f6-b21f-7849a908cb63"
    }
   },
   "source": [
    "#### (1) Special methods for an int, long, float"
   ]
  },
  {
   "cell_type": "code",
   "execution_count": 35,
   "metadata": {
    "collapsed": false,
    "nbpresent": {
     "id": "48690e7d-8e30-4893-85cb-1771762453e6"
    }
   },
   "outputs": [
    {
     "name": "stdout",
     "output_type": "stream",
     "text": [
      "7\n",
      "10\n",
      "5\n",
      "2\n",
      "(2, 1)\n",
      "1\n",
      "False\n",
      "28\n",
      "2.33333333333\n",
      "2\n",
      "7\n",
      "7\n"
     ]
    }
   ],
   "source": [
    "x = 7\n",
    "print x.__abs__()    # equivalent to abs(x)\n",
    "print x.__add__(3)   # equivalent to x + 3\n",
    "print x.__sub__(2)   # equivalent to x - 2\n",
    "print x.__div__(3)   # equivalent to x // 3\n",
    "print x.__divmod__(3) # equivalent to x//3, x % 3\n",
    "print x.__mod__(3)   # equivalent to x % 3\n",
    "print float(x).__eq__(-5)    # equivalent to x == 5\n",
    "print x.__mul__(4)    # equivalent to x * 4\n",
    "print x.__truediv__(3) # equivalent to x/3\n",
    "print x.__floordiv__(3) # equivalent to x//3\n",
    "print x.__repr__()\n",
    "print x.__str__()"
   ]
  },
  {
   "cell_type": "code",
   "execution_count": 36,
   "metadata": {
    "collapsed": false,
    "nbpresent": {
     "id": "24fb7d2c-b3c5-479b-a024-525a79adf027"
    }
   },
   "outputs": [
    {
     "data": {
      "text/plain": [
       "7"
      ]
     },
     "execution_count": 36,
     "metadata": {},
     "output_type": "execute_result"
    }
   ],
   "source": [
    "x.__abs__()"
   ]
  },
  {
   "cell_type": "markdown",
   "metadata": {
    "nbpresent": {
     "id": "189ac101-dd19-4094-a920-4fd586a1a0f7"
    }
   },
   "source": [
    "#### (2) Special methods for a list"
   ]
  },
  {
   "cell_type": "code",
   "execution_count": 37,
   "metadata": {
    "collapsed": true,
    "nbpresent": {
     "id": "44652ece-83a2-41fe-b0ac-24c1e33385a0"
    }
   },
   "outputs": [],
   "source": [
    "x=[1,2,3,4,5]"
   ]
  },
  {
   "cell_type": "code",
   "execution_count": 38,
   "metadata": {
    "collapsed": false,
    "nbpresent": {
     "id": "573b70c9-b073-4b74-aa32-6c9a30baba72"
    }
   },
   "outputs": [
    {
     "name": "stdout",
     "output_type": "stream",
     "text": [
      "4\n",
      "[1, 2, 3, 10, 5]\n",
      "[1, 2, 3, 10, 5]\n",
      "[1, 2, 3, 10, 5, 1, 2, 3, 10, 5]\n",
      "[1, 2, 10, 5]\n",
      "[1, 2, 10, 5, 1, 2, 10, 5]\n",
      "[1, 2, 10, 2, 10, 5]\n",
      "[1, 2, 10, 2, 10, 5, 1, 2, 10, 2, 10, 5]\n",
      "6\n"
     ]
    }
   ],
   "source": [
    "print x.__getitem__(3)     # realization of x[3]\n",
    "x.__setitem__(3, 10)  # x[3] = 10\n",
    "print x.__repr__()    # \n",
    "print x.__str__()\n",
    "print x.__mul__(2)    # x * 2\n",
    "x.__delitem__(2)      # del x[2]\n",
    "print x\n",
    "x = x * 2\n",
    "print x\n",
    "x.__delslice__(3,5)   # del x[3:5]\n",
    "print x\n",
    "print x.__rmul__(2)  # 2 * x\n",
    "\n",
    "print x.__len__()  # len(x)"
   ]
  },
  {
   "cell_type": "code",
   "execution_count": null,
   "metadata": {
    "collapsed": true
   },
   "outputs": [],
   "source": [
    "class BookList(list):\n",
    "    def __init__(self, ):\n",
    "        pass\n",
    "    \n",
    "    def __repr__(self):\n",
    "        pass\n",
    "    \n",
    "    def __str__(self):\n",
    "        pass\n",
    "    \n",
    "    def __getitem__(self, i):\n",
    "        pass"
   ]
  },
  {
   "cell_type": "markdown",
   "metadata": {
    "nbpresent": {
     "id": "a6e25a5a-7a36-4275-b120-9740a6f60d84"
    }
   },
   "source": [
    "#### (3) `__getattr__()` methods"
   ]
  },
  {
   "cell_type": "code",
   "execution_count": 39,
   "metadata": {
    "collapsed": false,
    "nbpresent": {
     "id": "8c911895-46e0-4aad-864a-d0f250887040"
    }
   },
   "outputs": [
    {
     "name": "stdout",
     "output_type": "stream",
     "text": [
      "True\n",
      "False\n"
     ]
    },
    {
     "ename": "AttributeError",
     "evalue": "teenager",
     "output_type": "error",
     "traceback": [
      "\u001b[0;31m---------------------------------------------------------------------------\u001b[0m",
      "\u001b[0;31mAttributeError\u001b[0m                            Traceback (most recent call last)",
      "\u001b[0;32m<ipython-input-39-e4366510e13a>\u001b[0m in \u001b[0;36m<module>\u001b[0;34m()\u001b[0m\n\u001b[1;32m     14\u001b[0m \u001b[0;32mprint\u001b[0m \u001b[0mlibai\u001b[0m\u001b[0;34m.\u001b[0m\u001b[0madult\u001b[0m\u001b[0;34m\u001b[0m\u001b[0m\n\u001b[1;32m     15\u001b[0m \u001b[0;32mprint\u001b[0m \u001b[0mlibai\u001b[0m\u001b[0;34m.\u001b[0m\u001b[0minfant\u001b[0m\u001b[0;34m\u001b[0m\u001b[0m\n\u001b[0;32m---> 16\u001b[0;31m \u001b[0;32mprint\u001b[0m \u001b[0mlibai\u001b[0m\u001b[0;34m.\u001b[0m\u001b[0mteenager\u001b[0m\u001b[0;34m\u001b[0m\u001b[0m\n\u001b[0m",
      "\u001b[0;32m<ipython-input-39-e4366510e13a>\u001b[0m in \u001b[0;36m__getattr__\u001b[0;34m(self, name)\u001b[0m\n\u001b[1;32m      9\u001b[0m             \u001b[0;32mreturn\u001b[0m \u001b[0mTrue\u001b[0m \u001b[0;32mif\u001b[0m \u001b[0mself\u001b[0m\u001b[0;34m.\u001b[0m\u001b[0mage\u001b[0m \u001b[0;34m<\u001b[0m \u001b[0;36m2\u001b[0m \u001b[0;32melse\u001b[0m \u001b[0mFalse\u001b[0m\u001b[0;34m\u001b[0m\u001b[0m\n\u001b[1;32m     10\u001b[0m         \u001b[0;32melse\u001b[0m\u001b[0;34m:\u001b[0m\u001b[0;34m\u001b[0m\u001b[0m\n\u001b[0;32m---> 11\u001b[0;31m             \u001b[0;32mraise\u001b[0m \u001b[0mAttributeError\u001b[0m\u001b[0;34m(\u001b[0m\u001b[0mname\u001b[0m\u001b[0;34m)\u001b[0m\u001b[0;34m\u001b[0m\u001b[0m\n\u001b[0m\u001b[1;32m     12\u001b[0m \u001b[0;34m\u001b[0m\u001b[0m\n\u001b[1;32m     13\u001b[0m \u001b[0mlibai\u001b[0m \u001b[0;34m=\u001b[0m \u001b[0mHuman\u001b[0m\u001b[0;34m(\u001b[0m\u001b[0;36m20\u001b[0m\u001b[0;34m)\u001b[0m\u001b[0;34m\u001b[0m\u001b[0m\n",
      "\u001b[0;31mAttributeError\u001b[0m: teenager"
     ]
    }
   ],
   "source": [
    "class Human(object):\n",
    "    def __init__(self, age):\n",
    "        self.age = age\n",
    "        \n",
    "    def __getattr__(self, name):\n",
    "        if name == \"adult\":\n",
    "            return True if self.age > 18 else False\n",
    "        elif name == \"infant\":\n",
    "            return True if self.age < 2 else False\n",
    "        else:\n",
    "            raise AttributeError(name)\n",
    "            \n",
    "libai = Human(20)\n",
    "print libai.adult\n",
    "print libai.infant\n",
    "print libai.teenager"
   ]
  },
  {
   "cell_type": "markdown",
   "metadata": {
    "nbpresent": {
     "id": "7d5de69a-0241-4d9a-8e1b-0230639d44ce"
    }
   },
   "source": [
    "#### (4) `@property`\n",
    "\n",
    "The decorator `@property` can convert a `getter` method into an attribute, and thus can set the attributes by calling the `setter` method."
   ]
  },
  {
   "cell_type": "code",
   "execution_count": 44,
   "metadata": {
    "collapsed": true,
    "nbpresent": {
     "id": "9819d9ca-84c3-40b0-9974-4ee116fd818a"
    }
   },
   "outputs": [],
   "source": [
    "class Student(object):\n",
    "    \n",
    "    @property\n",
    "    def score(self):\n",
    "        return self.__score\n",
    "    \n",
    "    @score.setter\n",
    "    def score(self, value):\n",
    "        if not isinstance(value, int):\n",
    "            raise ValueError('The score must be an integer')\n",
    "        if value < 0 or value > 100:\n",
    "            raise ValueError('The score must be in the range [0,100]')\n",
    "        self.__score = value\n",
    "        \n",
    "    @property\n",
    "    def birth(self):\n",
    "        return self.__birth\n",
    "    \n",
    "    @birth.setter\n",
    "    def birth(self, year):\n",
    "        self.__birth = year\n",
    "        \n",
    "    @property\n",
    "    def age(self):\n",
    "        return 2016 - self.__birth\n",
    "    \n",
    "    @age.setter\n",
    "    def age(self, age):\n",
    "        self.__age = age"
   ]
  },
  {
   "cell_type": "code",
   "execution_count": 45,
   "metadata": {
    "collapsed": false,
    "nbpresent": {
     "id": "c7d11520-6159-4eaf-89bf-b1ce78754a33"
    }
   },
   "outputs": [
    {
     "name": "stdout",
     "output_type": "stream",
     "text": [
      "90\n",
      "13\n"
     ]
    }
   ],
   "source": [
    "s = Student()\n",
    "s.score = 90\n",
    "print s.score\n",
    "s.birth = 2003\n",
    "print s.age"
   ]
  },
  {
   "cell_type": "code",
   "execution_count": 46,
   "metadata": {
    "collapsed": false,
    "nbpresent": {
     "id": "0d4d8a04-bd5f-4834-a9aa-8c0529830263"
    }
   },
   "outputs": [],
   "source": [
    "s.age = 20"
   ]
  },
  {
   "cell_type": "markdown",
   "metadata": {
    "nbpresent": {
     "id": "39de840e-7616-452d-b476-acb377d993d1"
    }
   },
   "source": [
    "## 5. Module and module package, subpackage\n",
    "\n",
    "* A Python module is any python file containing the defintion of objects\n",
    "* A module package is a directory containing one or more python modules\n",
    "* A python module subpackage is also a package inside another package"
   ]
  },
  {
   "cell_type": "markdown",
   "metadata": {
    "nbpresent": {
     "id": "0cf9367d-aadb-43e2-bb72-b5eaf3d74f3c"
    }
   },
   "source": [
    "### 5.1 import the module"
   ]
  },
  {
   "cell_type": "code",
   "execution_count": 64,
   "metadata": {
    "collapsed": true,
    "nbpresent": {
     "id": "da4c6d91-ebb7-4f9e-8968-28887d8c3b8c"
    }
   },
   "outputs": [],
   "source": [
    "import math"
   ]
  },
  {
   "cell_type": "code",
   "execution_count": 65,
   "metadata": {
    "collapsed": true,
    "nbpresent": {
     "id": "2dbfc993-7755-4898-8d12-1cefa1cfe55c"
    }
   },
   "outputs": [],
   "source": [
    "import math as m"
   ]
  },
  {
   "cell_type": "code",
   "execution_count": 66,
   "metadata": {
    "collapsed": true,
    "nbpresent": {
     "id": "0b69f4c9-2ea5-446a-a825-b6611f068064"
    }
   },
   "outputs": [],
   "source": [
    "from math import log"
   ]
  },
  {
   "cell_type": "code",
   "execution_count": 67,
   "metadata": {
    "collapsed": true,
    "nbpresent": {
     "id": "67d5b1b7-35a2-42f0-bb27-8189fe341f56"
    }
   },
   "outputs": [],
   "source": [
    "from math import *"
   ]
  },
  {
   "cell_type": "markdown",
   "metadata": {
    "nbpresent": {
     "id": "a324f134-1531-4ec6-b374-b3fbe462b2cd"
    }
   },
   "source": [
    "You need to specify the PYTHONPATH, that is, where the python modules are located."
   ]
  },
  {
   "cell_type": "code",
   "execution_count": 70,
   "metadata": {
    "collapsed": false,
    "nbpresent": {
     "id": "5df94cec-7aee-4fd5-a6cc-1773ab11d08e"
    }
   },
   "outputs": [
    {
     "name": "stdout",
     "output_type": "stream",
     "text": [
      "['', '/home/bio/.local/lib/python2.7/site-packages/HTSeq-0.6.1p1-py2.7-linux-x86_64.egg', '/opt/anaconda2/lib/python2.7/site-packages/mystic-0.2a1-py2.7.egg', '/opt/anaconda2/lib/python27.zip', '/opt/anaconda2/lib/python2.7', '/opt/anaconda2/lib/python2.7/plat-linux2', '/opt/anaconda2/lib/python2.7/lib-tk', '/opt/anaconda2/lib/python2.7/lib-old', '/opt/anaconda2/lib/python2.7/lib-dynload', '/home/bio/.local/lib/python2.7/site-packages', '/opt/anaconda2/lib/python2.7/site-packages/Sphinx-1.3.5-py2.7.egg', '/opt/anaconda2/lib/python2.7/site-packages/setuptools-20.7.0-py2.7.egg', '/opt/anaconda2/lib/python2.7/site-packages', '/opt/anaconda2/lib/python2.7/site-packages/cryptography-1.0.2-py2.7-linux-x86_64.egg', '/opt/anaconda2/lib/python2.7/site-packages/IPython/extensions', '/home/bio/.ipython']\n"
     ]
    }
   ],
   "source": [
    "import sys\n",
    "print sys.path"
   ]
  },
  {
   "cell_type": "markdown",
   "metadata": {
    "nbpresent": {
     "id": "4fad68c9-85cf-4c21-8212-8d11fa7ecfb4"
    }
   },
   "source": [
    "### 5.2 `__init__.py`"
   ]
  },
  {
   "cell_type": "markdown",
   "metadata": {
    "nbpresent": {
     "id": "0bd4cffd-0559-4cd5-b3fc-72328f85c056"
    }
   },
   "source": [
    "We need to put a file called `__init__.py` inside each package and subpackage, so that the package and subpackage can be recognized by the python system."
   ]
  },
  {
   "cell_type": "markdown",
   "metadata": {
    "nbpresent": {
     "id": "ae03af8c-dc44-4211-bb4e-317428b1ff6d"
    }
   },
   "source": [
    "## 6. Summary\n",
    "\n",
    "In this chapter, we have introduced:\n",
    "* class and object\n",
    "* public, private, built-in attributes\n",
    "* public, private, and special methods\n",
    "* decorators such as `classmethod`, `staticmethod`, `@property`\n",
    "* `__getattr__` method\n",
    "* inheritance\n",
    "* modules and packages"
   ]
  },
  {
   "cell_type": "markdown",
   "metadata": {
    "nbpresent": {
     "id": "194a10aa-347d-454a-85aa-4ce8f5cd31e5"
    }
   },
   "source": [
    "## 7. Exercises"
   ]
  },
  {
   "cell_type": "markdown",
   "metadata": {
    "nbpresent": {
     "id": "c7721f55-8c29-4354-a502-0ba7653c8d65"
    }
   },
   "source": [
    "### Problem 1\n",
    "Fill in the Line class methods to accept coordinate as a pair of tuples and return the slope and distance of the line."
   ]
  },
  {
   "cell_type": "code",
   "execution_count": null,
   "metadata": {
    "collapsed": true,
    "nbpresent": {
     "id": "3b89b1fe-318a-4686-b7e0-e6f2232a2a8e"
    }
   },
   "outputs": [],
   "source": [
    "class Point(object):\n",
    "    \n",
    "    def __init__(self, coor=(0,0)):\n",
    "        self.x = coor[0]\n",
    "        self.y = coor[1]\n",
    "    \n",
    "    def __str__(self):\n",
    "        return \"\"\n",
    "    \n",
    "    @property\n",
    "    def coordinate(self):\n",
    "        return (self.x, self.y)\n",
    "    \n",
    "    @coordinate.setter\n",
    "    def coordinate(self, value):\n",
    "        self.x = value[0]\n",
    "        self.y = value[1]\n",
    "        \n",
    "class Line(object):\n",
    "    \n",
    "    def __init__(self, startpoint, endpoint):\n",
    "        pass\n",
    "    \n",
    "    @property\n",
    "    def distance(self):\n",
    "        pass\n",
    "    \n",
    "    @property\n",
    "    def slope(self):\n",
    "        pass"
   ]
  },
  {
   "cell_type": "code",
   "execution_count": null,
   "metadata": {
    "collapsed": true,
    "nbpresent": {
     "id": "be3a7c53-cd6a-4e43-a8e0-70875664511e"
    }
   },
   "outputs": [],
   "source": [
    "p1 = Point()\n",
    "print p1.coordinate\n",
    "p1.coordinate = (2,3)\n",
    "p2 = Point()\n",
    "p2.coordinate = (3,2)"
   ]
  },
  {
   "cell_type": "markdown",
   "metadata": {
    "nbpresent": {
     "id": "af5c3082-3fc5-4eba-8667-735af05f2e6f"
    }
   },
   "source": [
    "### Problem 2\n",
    "\n",
    "Fill in the class `Cylinder`:"
   ]
  },
  {
   "cell_type": "code",
   "execution_count": 71,
   "metadata": {
    "collapsed": true,
    "nbpresent": {
     "id": "3368441c-5fd8-4f3f-bbaa-258846a5e4bc"
    }
   },
   "outputs": [],
   "source": [
    "class Cylinder(object):\n",
    "    \n",
    "    def __init__(self,height=1,radius=1):\n",
    "        pass\n",
    "        \n",
    "    def volume(self):\n",
    "        pass\n",
    "    \n",
    "    def surface_area(self):\n",
    "        pass"
   ]
  },
  {
   "cell_type": "code",
   "execution_count": null,
   "metadata": {
    "collapsed": true,
    "nbpresent": {
     "id": "a8cc9719-a19e-44be-b227-c16e0f69d53a"
    }
   },
   "outputs": [],
   "source": []
  },
  {
   "cell_type": "markdown",
   "metadata": {
    "nbpresent": {
     "id": "ff6b2be7-86c0-4ead-8a41-cf33a0d5a223"
    }
   },
   "source": [
    "### Problem 3\n",
    "\n",
    "Here is a [Genbank file](data/NT_033777.gbk) for Chr-3R of *__D.melanogaster__*. Try to extract the CDS (coding sequence) and save them all in a file as FASTA format, using the knowledge of regular expression you have learn.\n",
    "\n",
    "```\n",
    "     CDS             join(1115..1913,7784..8649,9439..9771)\n",
    "                     /gene=\"CG12581\"\n",
    "                     /locus_tag=\"Dmel_CG12581\"\n",
    "                     /note=\"CG12581 gene product from transcript CG12581-RA\"\n",
    "                     /codon_start=1\n",
    "                     /product=\"CG12581-PA, isoform A\"\n",
    "                     /protein_id=\"NP_649435.2\"\n",
    "                     /db_xref=\"GI:24643831\"\n",
    "                     /db_xref=\"FLYBASE:FBgn0037213\"\n",
    "                     /db_xref=\"GeneID:40522\"\n",
    "                     /translation=\"MGDSTPICRCRVLYLGSAVPRQSKDGLQGIQEPLRSLYPSEGAV\n",
    "                     GAKGIDSWLSVWSNGILLENVDENLKQITRFFPIESLHYCAAVRQVLIPERGNTHPEP\n",
    "                     KFLPLDSPFARMPRAQHPPIFAAILRRTTGIKVLECHVFICKREAAANALVRCCFHAY\n",
    "                     ADNSYARQLETGGGSSVYGTLKSGAISKSSSDLTGVGLANGVGNGSGGGNHHLSLSAQ\n",
    "                     GGWRSRTGSTTTLNSLGRASNGHANGSAIGMNGSSAVSAAEGYTSVKNFYGSSADLNV\n",
    "                     AVDDGDASFNGDENHKVWNGSQDQLDSIGPLESPYELFAGNTSTLGRPLRARQISTPI\n",
    "                     DVPPPPVKDERKTKRDKKLTKSSGSQSLSGTLIRPKPVHPAPQHRSGFQGPSGPGSVT\n",
    "                     YGHVSGHGLHAARYHTISHRGIPPGSHSHLTHHPPPHPSQNQVHMMHHPHIGGLPPMQ\n",
    "                     IPVMMPQQYATLQPSRSTGKKKKKDKKSGAGGGVPVGMPIVPPIYAFQQQVVGVPAPQ\n",
    "                     LAQSLIGETRPLGHSSRKLAASMGNGLDDSGNSGAESPSPGGTGIYKRKGHLNERAFS\n",
    "                     YSIRQEHRSRSHGSLASLQFNPPDIKKEREIAQMVAGLDLNEGERPMGPNTLQRKHAM\n",
    "                     TMSNGGLHGPGPSQHPHAHPPHPHAIYGPLGPASSFGMPRR\"\n",
    "```\n",
    "or\n",
    "```\n",
    "     CDS             complement(15530..15955)\n",
    "                     /gene=\"Dsk\"\n",
    "                     /locus_tag=\"Dmel_CG18090\"\n",
    "                     /note=\"CG18090 gene product from transcript CG18090-RA\"\n",
    "                     /codon_start=1\n",
    "                     /product=\"CG18090-PA\"\n",
    "                     /protein_id=\"NP_524845.2\"\n",
    "                     /db_xref=\"GI:28573265\"\n",
    "                     /db_xref=\"FLYBASE:FBgn0000500\"\n",
    "                     /db_xref=\"GeneID:45845\"\n",
    "                     /translation=\"MGPRSCTHFATLFMPLWALAFCFLVVLPIPAQTTSLQNAKDDRR\n",
    "                     LQELESKIGGEIDQPIANLVGPSFSLFGDRRNQKTMSFGRRVPLISRPIIPIELDLLM\n",
    "                     DNDDERTKAKRFDDYGHMRFGKRGGDDQFDDYGHMRFGR\"\n",
    "```\n",
    "Write a class `Genbank` so that you can parse the features stored in a `genbank` file, like __CDS__, __mRNA__, __repeat__, and etc."
   ]
  },
  {
   "cell_type": "code",
   "execution_count": null,
   "metadata": {
    "collapsed": true,
    "nbpresent": {
     "id": "8932bd89-4f38-40e8-897a-e0423c02b2a4"
    }
   },
   "outputs": [],
   "source": [
    "class Genbank(object):\n",
    "    \n",
    "    def __init__(self, file):\n",
    "        pass"
   ]
  }
 ],
 "metadata": {
  "kernelspec": {
   "display_name": "Python [default]",
   "language": "python",
   "name": "python2"
  },
  "language_info": {
   "codemirror_mode": {
    "name": "ipython",
    "version": 2
   },
   "file_extension": ".py",
   "mimetype": "text/x-python",
   "name": "python",
   "nbconvert_exporter": "python",
   "pygments_lexer": "ipython2",
   "version": "2.7.12"
  },
  "nbpresent": {
   "slides": {
    "0373634a-5d09-441b-9d06-e4d61d06ca5d": {
     "id": "0373634a-5d09-441b-9d06-e4d61d06ca5d",
     "prev": "a3010984-8710-4861-9d63-22abc55c3b39",
     "regions": {
      "694c7aa5-377f-408b-b5e7-ce457d146d72": {
       "attrs": {
        "height": 0.8,
        "width": 0.8,
        "x": 0.1,
        "y": 0.1
       },
       "content": {
        "cell": "da4c6d91-ebb7-4f9e-8968-28887d8c3b8c",
        "part": "whole"
       },
       "id": "694c7aa5-377f-408b-b5e7-ce457d146d72"
      }
     }
    },
    "08c334da-3a38-4301-9344-596ded38c38b": {
     "id": "08c334da-3a38-4301-9344-596ded38c38b",
     "prev": "42a57c94-8b68-4714-a58e-5a8c07f9c128",
     "regions": {
      "4dd4d1d7-714e-4c2d-bc0e-aa5d87bd2f06": {
       "attrs": {
        "height": 0.8,
        "width": 0.8,
        "x": 0.1,
        "y": 0.1
       },
       "content": {
        "cell": "df2a30a2-446b-4b2f-b99b-8185c1a58880",
        "part": "whole"
       },
       "id": "4dd4d1d7-714e-4c2d-bc0e-aa5d87bd2f06"
      }
     }
    },
    "0eb33912-853e-4a56-932f-42b66a1c62b7": {
     "id": "0eb33912-853e-4a56-932f-42b66a1c62b7",
     "prev": "8d6773e3-c61c-403c-8329-9d6cc07db709",
     "regions": {
      "763c7855-1dc3-46c9-bd0d-1e9e1d2980eb": {
       "attrs": {
        "height": 0.8,
        "width": 0.8,
        "x": 0.1,
        "y": 0.1
       },
       "content": {
        "cell": "ff6b2be7-86c0-4ead-8a41-cf33a0d5a223",
        "part": "whole"
       },
       "id": "763c7855-1dc3-46c9-bd0d-1e9e1d2980eb"
      }
     }
    },
    "15fa3f85-9fd0-48fe-b61e-93cc39b6674c": {
     "id": "15fa3f85-9fd0-48fe-b61e-93cc39b6674c",
     "prev": "8cf89b5c-e282-490c-9100-df7aebdab8c8",
     "regions": {
      "daf2c034-93b7-4a78-8e40-e158c3a17074": {
       "attrs": {
        "height": 0.8,
        "width": 0.8,
        "x": 0.1,
        "y": 0.1
       },
       "content": {
        "cell": "187ccd95-2f1e-4bd5-b45d-9d6299f8f3be",
        "part": "whole"
       },
       "id": "daf2c034-93b7-4a78-8e40-e158c3a17074"
      }
     }
    },
    "187005ab-16f0-4f44-838d-25185272250f": {
     "id": "187005ab-16f0-4f44-838d-25185272250f",
     "prev": "ac078420-eb15-49c4-bde5-7bc27ba4eb07",
     "regions": {
      "60c887a0-1647-4204-b36c-f43233058856": {
       "attrs": {
        "height": 0.8,
        "width": 0.8,
        "x": 0.1,
        "y": 0.1
       },
       "content": {
        "cell": "13345e5f-9b2f-4ac7-9613-d19663125299",
        "part": "whole"
       },
       "id": "60c887a0-1647-4204-b36c-f43233058856"
      }
     }
    },
    "1f262c5a-8a14-4317-84fa-b80ead4b9a7a": {
     "id": "1f262c5a-8a14-4317-84fa-b80ead4b9a7a",
     "prev": "d7aa5125-717b-41e3-a592-60d8a631148c",
     "regions": {
      "21faf6c8-a9d2-433d-8f6c-452d23367a13": {
       "attrs": {
        "height": 0.8,
        "width": 0.8,
        "x": 0.1,
        "y": 0.1
       },
       "content": {
        "cell": "4ce48ebc-2a52-4415-9b6b-a9641ce40537",
        "part": "whole"
       },
       "id": "21faf6c8-a9d2-433d-8f6c-452d23367a13"
      }
     }
    },
    "20e2ea94-8bde-4e2e-869f-1d6bbe393071": {
     "id": "20e2ea94-8bde-4e2e-869f-1d6bbe393071",
     "prev": "ee77ab3d-629d-469a-958d-b35e5d4e9063",
     "regions": {
      "663a8303-5949-449a-a595-cc7db414db82": {
       "attrs": {
        "height": 0.8,
        "width": 0.8,
        "x": 0.1,
        "y": 0.1
       },
       "content": {
        "cell": "48690e7d-8e30-4893-85cb-1771762453e6",
        "part": "whole"
       },
       "id": "663a8303-5949-449a-a595-cc7db414db82"
      }
     }
    },
    "2744802a-a861-4677-9664-559147891570": {
     "id": "2744802a-a861-4677-9664-559147891570",
     "prev": "e2c07b4c-4e21-473d-9860-cfad0d48f22a",
     "regions": {
      "b23ec058-1be9-4843-9815-1642b90e1fa4": {
       "attrs": {
        "height": 0.8,
        "width": 0.8,
        "x": 0.1,
        "y": 0.1
       },
       "content": {
        "cell": "9c91db2c-8f8b-4218-a662-93d2379852d8",
        "part": "whole"
       },
       "id": "b23ec058-1be9-4843-9815-1642b90e1fa4"
      }
     }
    },
    "2afbb49e-2a03-4969-b363-028be2080bc1": {
     "id": "2afbb49e-2a03-4969-b363-028be2080bc1",
     "prev": "d2d5c44d-2ee5-45be-b757-570096096e9b",
     "regions": {
      "28640452-d4ef-4a66-96ac-722cb4f5e7d1": {
       "attrs": {
        "height": 0.8,
        "width": 0.8,
        "x": 0.1,
        "y": 0.1
       },
       "content": {
        "cell": "a6e25a5a-7a36-4275-b120-9740a6f60d84",
        "part": "whole"
       },
       "id": "28640452-d4ef-4a66-96ac-722cb4f5e7d1"
      }
     }
    },
    "2dc766cb-33e7-4328-88e5-2707d55b7fc1": {
     "id": "2dc766cb-33e7-4328-88e5-2707d55b7fc1",
     "prev": "742f45c9-4ccf-43e3-a13e-c28924dad139",
     "regions": {
      "b31ff5c3-0758-4798-97c6-f9bae22b3cc0": {
       "attrs": {
        "height": 0.8,
        "width": 0.8,
        "x": 0.1,
        "y": 0.1
       },
       "content": {
        "cell": "be1b0680-199a-4920-b75f-15d00923b595",
        "part": "whole"
       },
       "id": "b31ff5c3-0758-4798-97c6-f9bae22b3cc0"
      }
     }
    },
    "2f50c0b2-864a-4d3b-b8ff-52b5e17792cb": {
     "id": "2f50c0b2-864a-4d3b-b8ff-52b5e17792cb",
     "prev": "41c75cbc-d245-4086-862f-23d18a7c206d",
     "regions": {
      "740f9905-c077-4a91-b006-0ab973e84c13": {
       "attrs": {
        "height": 0.8,
        "width": 0.8,
        "x": 0.1,
        "y": 0.1
       },
       "content": {
        "cell": "3b89b1fe-318a-4686-b7e0-e6f2232a2a8e",
        "part": "whole"
       },
       "id": "740f9905-c077-4a91-b006-0ab973e84c13"
      }
     }
    },
    "2f86fdc0-7d42-4666-b0a6-b85281869706": {
     "id": "2f86fdc0-7d42-4666-b0a6-b85281869706",
     "prev": "c3ad25c5-2fdd-4245-a86b-cb2a414f662a",
     "regions": {
      "c39aebf2-1ba9-4955-8810-9ed7e147fc1e": {
       "attrs": {
        "height": 0.8,
        "width": 0.8,
        "x": 0.1,
        "y": 0.1
       },
       "content": {
        "cell": "aaffd98a-849c-4f91-a464-bfa1883d0e06",
        "part": "whole"
       },
       "id": "c39aebf2-1ba9-4955-8810-9ed7e147fc1e"
      }
     }
    },
    "32bf8596-39b0-4747-acb9-230348fae298": {
     "id": "32bf8596-39b0-4747-acb9-230348fae298",
     "prev": "a4ca6746-ff9c-4135-a694-d706e5f35325",
     "regions": {
      "f20e8add-c7cf-4b9f-a5e2-7432c8414173": {
       "attrs": {
        "height": 0.8,
        "width": 0.8,
        "x": 0.1,
        "y": 0.1
       },
       "content": {
        "cell": "5df94cec-7aee-4fd5-a6cc-1773ab11d08e",
        "part": "whole"
       },
       "id": "f20e8add-c7cf-4b9f-a5e2-7432c8414173"
      }
     }
    },
    "36b539b4-03d7-4575-84a3-a6222a771deb": {
     "id": "36b539b4-03d7-4575-84a3-a6222a771deb",
     "prev": "4de55944-16f8-4391-8b34-e75f81992e89",
     "regions": {
      "c206c529-7140-4625-88a5-0020a1ac5e81": {
       "attrs": {
        "height": 0.8,
        "width": 0.8,
        "x": 0.1,
        "y": 0.1
       },
       "content": {
        "cell": "0bd4cffd-0559-4cd5-b3fc-72328f85c056",
        "part": "whole"
       },
       "id": "c206c529-7140-4625-88a5-0020a1ac5e81"
      }
     }
    },
    "36ddb5f2-765d-483a-b288-ce05871ed3cd": {
     "id": "36ddb5f2-765d-483a-b288-ce05871ed3cd",
     "prev": "b174e663-01b9-4b24-9b5d-8febde8e92cb",
     "regions": {
      "10ca51e4-38d5-4062-80dd-0b6d937f0ab4": {
       "attrs": {
        "height": 0.8,
        "width": 0.8,
        "x": 0.1,
        "y": 0.1
       },
       "content": {
        "cell": "0b69f4c9-2ea5-446a-a825-b6611f068064",
        "part": "whole"
       },
       "id": "10ca51e4-38d5-4062-80dd-0b6d937f0ab4"
      }
     }
    },
    "3f824745-6ef5-420e-a305-e449f48b88f7": {
     "id": "3f824745-6ef5-420e-a305-e449f48b88f7",
     "prev": "b3f1e44a-8d66-4b26-adf5-34784ac7a86d",
     "regions": {
      "08b790e8-5893-40f2-a699-c042f751d90e": {
       "attrs": {
        "height": 0.8,
        "width": 0.8,
        "x": 0.1,
        "y": 0.1
       },
       "content": {
        "cell": "c7d11520-6159-4eaf-89bf-b1ce78754a33",
        "part": "whole"
       },
       "id": "08b790e8-5893-40f2-a699-c042f751d90e"
      }
     }
    },
    "41001a1b-c6c3-48d2-970b-75921bb7dfa8": {
     "id": "41001a1b-c6c3-48d2-970b-75921bb7dfa8",
     "prev": null,
     "regions": {
      "ea7672e9-e0d7-44e7-a0ff-bac00ee0c07a": {
       "attrs": {
        "height": 0.8,
        "width": 0.8,
        "x": 0.1,
        "y": 0.1
       },
       "content": {
        "cell": "41e523db-375f-40e4-b802-e9cb6d19f089",
        "part": "whole"
       },
       "id": "ea7672e9-e0d7-44e7-a0ff-bac00ee0c07a"
      }
     }
    },
    "41c75cbc-d245-4086-862f-23d18a7c206d": {
     "id": "41c75cbc-d245-4086-862f-23d18a7c206d",
     "prev": "4432c6d8-15ac-4f52-84b2-7eefd4990ea1",
     "regions": {
      "b0d2c93b-b280-4218-a73e-f9e408610207": {
       "attrs": {
        "height": 0.8,
        "width": 0.8,
        "x": 0.1,
        "y": 0.1
       },
       "content": {
        "cell": "c7721f55-8c29-4354-a502-0ba7653c8d65",
        "part": "whole"
       },
       "id": "b0d2c93b-b280-4218-a73e-f9e408610207"
      }
     }
    },
    "42a57c94-8b68-4714-a58e-5a8c07f9c128": {
     "id": "42a57c94-8b68-4714-a58e-5a8c07f9c128",
     "prev": "a7602490-653c-4812-8add-21382f72a026",
     "regions": {
      "c9fe0be3-7b70-4ec4-aba9-ba69bb1522a9": {
       "attrs": {
        "height": 0.8,
        "width": 0.8,
        "x": 0.1,
        "y": 0.1
       },
       "content": {
        "cell": "4b8e5da4-93fe-4587-9b5e-82ce7a5e4176",
        "part": "whole"
       },
       "id": "c9fe0be3-7b70-4ec4-aba9-ba69bb1522a9"
      }
     }
    },
    "4432c6d8-15ac-4f52-84b2-7eefd4990ea1": {
     "id": "4432c6d8-15ac-4f52-84b2-7eefd4990ea1",
     "prev": "a50bd961-807a-4731-96f5-951587a5192f",
     "regions": {
      "bf6bd6e7-a75b-46d0-acaf-c5fa17f456b4": {
       "attrs": {
        "height": 0.8,
        "width": 0.8,
        "x": 0.1,
        "y": 0.1
       },
       "content": {
        "cell": "194a10aa-347d-454a-85aa-4ce8f5cd31e5",
        "part": "whole"
       },
       "id": "bf6bd6e7-a75b-46d0-acaf-c5fa17f456b4"
      }
     }
    },
    "44763275-1a1f-45a2-a641-afcf601b77b8": {
     "id": "44763275-1a1f-45a2-a641-afcf601b77b8",
     "prev": "3f824745-6ef5-420e-a305-e449f48b88f7",
     "regions": {
      "6a066c49-ad54-4ae1-8d5b-165ab7a2e8c2": {
       "attrs": {
        "height": 0.8,
        "width": 0.8,
        "x": 0.1,
        "y": 0.1
       },
       "content": {
        "cell": "0d4d8a04-bd5f-4834-a9aa-8c0529830263",
        "part": "whole"
       },
       "id": "6a066c49-ad54-4ae1-8d5b-165ab7a2e8c2"
      }
     }
    },
    "46af3b1a-b92e-4248-b7e3-cf72856b3772": {
     "id": "46af3b1a-b92e-4248-b7e3-cf72856b3772",
     "prev": "db10147c-c0ce-4f70-8d43-ff60b1aca69b",
     "regions": {
      "5d67a173-22f2-4208-9cd1-d203f4a42f92": {
       "attrs": {
        "height": 0.8,
        "width": 0.8,
        "x": 0.1,
        "y": 0.1
       },
       "content": {
        "cell": "7d5de69a-0241-4d9a-8e1b-0230639d44ce",
        "part": "whole"
       },
       "id": "5d67a173-22f2-4208-9cd1-d203f4a42f92"
      }
     }
    },
    "47c5b31d-9ecf-4815-a487-56454ab289e5": {
     "id": "47c5b31d-9ecf-4815-a487-56454ab289e5",
     "prev": "612ac064-c51d-431d-87bc-6bcbd4551ef9",
     "regions": {
      "81747e5b-fd61-42b0-a664-4b1ea4c14d10": {
       "attrs": {
        "height": 0.8,
        "width": 0.8,
        "x": 0.1,
        "y": 0.1
       },
       "content": {
        "cell": "fc142996-d9f3-40b1-8e25-985d30eb36a4",
        "part": "whole"
       },
       "id": "81747e5b-fd61-42b0-a664-4b1ea4c14d10"
      }
     }
    },
    "4a36c1ab-88c7-4aae-9085-6966f7df3a14": {
     "id": "4a36c1ab-88c7-4aae-9085-6966f7df3a14",
     "prev": "187005ab-16f0-4f44-838d-25185272250f",
     "regions": {
      "25907284-241a-4ac7-ba19-53ef097fbf54": {
       "attrs": {
        "height": 0.8,
        "width": 0.8,
        "x": 0.1,
        "y": 0.1
       },
       "content": {
        "cell": "5ca6d4ff-e6fa-46d7-b1b0-a15be2a1e3f7",
        "part": "whole"
       },
       "id": "25907284-241a-4ac7-ba19-53ef097fbf54"
      }
     }
    },
    "4de55944-16f8-4391-8b34-e75f81992e89": {
     "id": "4de55944-16f8-4391-8b34-e75f81992e89",
     "prev": "32bf8596-39b0-4747-acb9-230348fae298",
     "regions": {
      "b252bce8-a18e-4929-87a9-8bfbf35f3f3f": {
       "attrs": {
        "height": 0.8,
        "width": 0.8,
        "x": 0.1,
        "y": 0.1
       },
       "content": {
        "cell": "4fad68c9-85cf-4c21-8212-8d11fa7ecfb4",
        "part": "whole"
       },
       "id": "b252bce8-a18e-4929-87a9-8bfbf35f3f3f"
      }
     }
    },
    "4fd96ea6-d19a-49b1-bf98-467b4227e923": {
     "id": "4fd96ea6-d19a-49b1-bf98-467b4227e923",
     "prev": "8db49d8d-e372-46bd-85b5-f0dfda9d8e9a",
     "regions": {
      "b51acc46-af7b-4bc7-b05d-89e3f3911237": {
       "attrs": {
        "height": 0.8,
        "width": 0.8,
        "x": 0.1,
        "y": 0.1
       },
       "content": {
        "cell": "20f5b1c6-d522-42a9-b6f5-a57ef3af7efa",
        "part": "whole"
       },
       "id": "b51acc46-af7b-4bc7-b05d-89e3f3911237"
      }
     }
    },
    "51102165-8544-432b-a473-ca0a46154a2b": {
     "id": "51102165-8544-432b-a473-ca0a46154a2b",
     "prev": "f90f1b28-2ef9-4737-8f44-f06670b8fa68",
     "regions": {
      "883bfc4d-0fa4-4901-b2d1-295eac87dc37": {
       "attrs": {
        "height": 0.8,
        "width": 0.8,
        "x": 0.1,
        "y": 0.1
       },
       "content": {
        "cell": "da703a99-a608-4c13-b6f4-7a2a9e4160c8",
        "part": "whole"
       },
       "id": "883bfc4d-0fa4-4901-b2d1-295eac87dc37"
      }
     }
    },
    "605e2d91-a856-4400-ba25-00f614454323": {
     "id": "605e2d91-a856-4400-ba25-00f614454323",
     "prev": "bed0a2b9-19d9-4012-ae9c-2b0be2d8d794",
     "regions": {
      "e0574773-d9f2-4845-acb5-cb210f2396a9": {
       "attrs": {
        "height": 0.8,
        "width": 0.8,
        "x": 0.1,
        "y": 0.1
       },
       "content": {
        "cell": "44652ece-83a2-41fe-b0ac-24c1e33385a0",
        "part": "whole"
       },
       "id": "e0574773-d9f2-4845-acb5-cb210f2396a9"
      }
     }
    },
    "612ac064-c51d-431d-87bc-6bcbd4551ef9": {
     "id": "612ac064-c51d-431d-87bc-6bcbd4551ef9",
     "prev": "08c334da-3a38-4301-9344-596ded38c38b",
     "regions": {
      "c5d8c2e0-8278-4258-9133-bcffc5534f23": {
       "attrs": {
        "height": 0.8,
        "width": 0.8,
        "x": 0.1,
        "y": 0.1
       },
       "content": {
        "cell": "9d56058f-ba78-42bc-8fac-69942358c893",
        "part": "whole"
       },
       "id": "c5d8c2e0-8278-4258-9133-bcffc5534f23"
      }
     }
    },
    "651df831-621d-4b46-8fbb-d877c10b1ed2": {
     "id": "651df831-621d-4b46-8fbb-d877c10b1ed2",
     "prev": "75123b1f-32a4-4cc3-8f09-897676159312",
     "regions": {
      "f0f52ba3-9085-470d-9bc5-fee33cc520f1": {
       "attrs": {
        "height": 0.8,
        "width": 0.8,
        "x": 0.1,
        "y": 0.1
       },
       "content": {
        "cell": "2243bd17-cfc1-4f27-970d-f7a7e1c8a2b9",
        "part": "whole"
       },
       "id": "f0f52ba3-9085-470d-9bc5-fee33cc520f1"
      }
     }
    },
    "673ed8ec-2c98-4300-a387-983cb31458e3": {
     "id": "673ed8ec-2c98-4300-a387-983cb31458e3",
     "prev": "51102165-8544-432b-a473-ca0a46154a2b",
     "regions": {
      "7447fbda-51ca-4850-823c-21e84d36cc7b": {
       "attrs": {
        "height": 0.8,
        "width": 0.8,
        "x": 0.1,
        "y": 0.1
       },
       "content": {
        "cell": "c0071c65-a815-444d-9248-feaa75b3dd01",
        "part": "whole"
       },
       "id": "7447fbda-51ca-4850-823c-21e84d36cc7b"
      }
     }
    },
    "6c94fc51-f99c-4164-b415-f74610b74dac": {
     "id": "6c94fc51-f99c-4164-b415-f74610b74dac",
     "prev": "9fe51790-6546-4353-8169-ca93e52d6d8b",
     "regions": {
      "2222ea3f-54b9-4518-8a0b-c5cedfe45966": {
       "attrs": {
        "height": 0.8,
        "width": 0.8,
        "x": 0.1,
        "y": 0.1
       },
       "content": {
        "cell": "fc013420-c63d-4ecd-b790-3036fbfbf067",
        "part": "whole"
       },
       "id": "2222ea3f-54b9-4518-8a0b-c5cedfe45966"
      }
     }
    },
    "709f9a20-b1fa-4374-a168-0f4e3885a585": {
     "id": "709f9a20-b1fa-4374-a168-0f4e3885a585",
     "prev": "6c94fc51-f99c-4164-b415-f74610b74dac",
     "regions": {
      "ea2ae994-a197-41b3-9dbc-928fc32b199d": {
       "attrs": {
        "height": 0.8,
        "width": 0.8,
        "x": 0.1,
        "y": 0.1
       },
       "content": {
        "cell": "598e9a6e-0e2f-4d9d-9fb2-7d5bb8dc31ff",
        "part": "whole"
       },
       "id": "ea2ae994-a197-41b3-9dbc-928fc32b199d"
      }
     }
    },
    "71682fc3-9f28-4e30-bed1-f0ef1bf01525": {
     "id": "71682fc3-9f28-4e30-bed1-f0ef1bf01525",
     "prev": "44763275-1a1f-45a2-a641-afcf601b77b8",
     "regions": {
      "b28b7bcf-f4cb-4f1a-8682-16b21a8af94e": {
       "attrs": {
        "height": 0.8,
        "width": 0.8,
        "x": 0.1,
        "y": 0.1
       },
       "content": {
        "cell": "39de840e-7616-452d-b476-acb377d993d1",
        "part": "whole"
       },
       "id": "b28b7bcf-f4cb-4f1a-8682-16b21a8af94e"
      }
     }
    },
    "738682b0-0fbb-479f-9436-fa6fc2eda616": {
     "id": "738682b0-0fbb-479f-9436-fa6fc2eda616",
     "prev": "df5d6a59-c2ef-4b5e-b417-3bab10827844",
     "regions": {
      "2ac28998-3071-4022-8cab-d33ce2b430b4": {
       "attrs": {
        "height": 0.8,
        "width": 0.8,
        "x": 0.1,
        "y": 0.1
       },
       "content": {
        "cell": "3368441c-5fd8-4f3f-bbaa-258846a5e4bc",
        "part": "whole"
       },
       "id": "2ac28998-3071-4022-8cab-d33ce2b430b4"
      }
     }
    },
    "742f45c9-4ccf-43e3-a13e-c28924dad139": {
     "id": "742f45c9-4ccf-43e3-a13e-c28924dad139",
     "prev": "f0593f4e-73f0-4164-b1e1-6e5a6cf95bf8",
     "regions": {
      "9f55a2e2-0818-4778-b2dc-01bdd434adf8": {
       "attrs": {
        "height": 0.8,
        "width": 0.8,
        "x": 0.1,
        "y": 0.1
       },
       "content": {
        "cell": "fa599342-a519-44d1-9e96-8e82a595ea9e",
        "part": "whole"
       },
       "id": "9f55a2e2-0818-4778-b2dc-01bdd434adf8"
      }
     }
    },
    "75123b1f-32a4-4cc3-8f09-897676159312": {
     "id": "75123b1f-32a4-4cc3-8f09-897676159312",
     "prev": "15fa3f85-9fd0-48fe-b61e-93cc39b6674c",
     "regions": {
      "fb5b2a0b-d20f-4919-b180-2bb800d4d482": {
       "attrs": {
        "height": 0.8,
        "width": 0.8,
        "x": 0.1,
        "y": 0.1
       },
       "content": {
        "cell": "2590e9ea-72ca-4f17-9bc8-fec2e180645c",
        "part": "whole"
       },
       "id": "fb5b2a0b-d20f-4919-b180-2bb800d4d482"
      }
     }
    },
    "7817f413-e630-4013-af64-6aac593cd24e": {
     "id": "7817f413-e630-4013-af64-6aac593cd24e",
     "prev": "709f9a20-b1fa-4374-a168-0f4e3885a585",
     "regions": {
      "0bbcf9de-c5d6-48ca-9f63-2f1c8e23e5dc": {
       "attrs": {
        "height": 0.8,
        "width": 0.8,
        "x": 0.1,
        "y": 0.1
       },
       "content": {
        "cell": "6dc6fda7-46da-4314-8059-422e7ecc11f5",
        "part": "whole"
       },
       "id": "0bbcf9de-c5d6-48ca-9f63-2f1c8e23e5dc"
      }
     }
    },
    "78608786-aa9e-4ce0-81d9-8d48c1553d02": {
     "id": "78608786-aa9e-4ce0-81d9-8d48c1553d02",
     "prev": "1f262c5a-8a14-4317-84fa-b80ead4b9a7a",
     "regions": {
      "25c3e669-e4c1-4377-84f8-0b7fa2beeec0": {
       "attrs": {
        "height": 0.8,
        "width": 0.8,
        "x": 0.1,
        "y": 0.1
       },
       "content": {
        "cell": "169137fa-239c-46a4-bbbb-ef7ba373a04a",
        "part": "whole"
       },
       "id": "25c3e669-e4c1-4377-84f8-0b7fa2beeec0"
      }
     }
    },
    "78988d9c-fb1a-42f8-bb45-7bcc01ee5e90": {
     "id": "78988d9c-fb1a-42f8-bb45-7bcc01ee5e90",
     "prev": "2dc766cb-33e7-4328-88e5-2707d55b7fc1",
     "regions": {
      "93dea541-86cf-416b-a4e1-66f7ce061a31": {
       "attrs": {
        "height": 0.8,
        "width": 0.8,
        "x": 0.1,
        "y": 0.1
       },
       "content": {
        "cell": "65dc9dc9-94f8-4083-a093-1995a8b07b9a",
        "part": "whole"
       },
       "id": "93dea541-86cf-416b-a4e1-66f7ce061a31"
      }
     }
    },
    "821cabcb-28ad-47bb-8c19-2e25abe4e0eb": {
     "id": "821cabcb-28ad-47bb-8c19-2e25abe4e0eb",
     "prev": "2f50c0b2-864a-4d3b-b8ff-52b5e17792cb",
     "regions": {
      "a78bf140-da9a-4d1e-9936-b3665188b393": {
       "attrs": {
        "height": 0.8,
        "width": 0.8,
        "x": 0.1,
        "y": 0.1
       },
       "content": {
        "cell": "be3a7c53-cd6a-4e43-a8e0-70875664511e",
        "part": "whole"
       },
       "id": "a78bf140-da9a-4d1e-9936-b3665188b393"
      }
     }
    },
    "8cf89b5c-e282-490c-9100-df7aebdab8c8": {
     "id": "8cf89b5c-e282-490c-9100-df7aebdab8c8",
     "prev": "78988d9c-fb1a-42f8-bb45-7bcc01ee5e90",
     "regions": {
      "96ec5088-781c-4857-af51-3272552ca565": {
       "attrs": {
        "height": 0.8,
        "width": 0.8,
        "x": 0.1,
        "y": 0.1
       },
       "content": {
        "cell": "af98970a-3cf8-4dfd-80cf-8ca798b5f855",
        "part": "whole"
       },
       "id": "96ec5088-781c-4857-af51-3272552ca565"
      }
     }
    },
    "8d6773e3-c61c-403c-8329-9d6cc07db709": {
     "id": "8d6773e3-c61c-403c-8329-9d6cc07db709",
     "prev": "738682b0-0fbb-479f-9436-fa6fc2eda616",
     "regions": {
      "f82d63d0-92e9-4f76-9970-d303ce952cf1": {
       "attrs": {
        "height": 0.8,
        "width": 0.8,
        "x": 0.1,
        "y": 0.1
       },
       "content": {
        "cell": "a8cc9719-a19e-44be-b227-c16e0f69d53a",
        "part": "whole"
       },
       "id": "f82d63d0-92e9-4f76-9970-d303ce952cf1"
      }
     }
    },
    "8db49d8d-e372-46bd-85b5-f0dfda9d8e9a": {
     "id": "8db49d8d-e372-46bd-85b5-f0dfda9d8e9a",
     "prev": "c99dc494-53c0-4090-8149-fbb304e06119",
     "regions": {
      "ed9e2ede-dbcf-42ef-8a8d-47bddd635dc1": {
       "attrs": {
        "height": 0.8,
        "width": 0.8,
        "x": 0.1,
        "y": 0.1
       },
       "content": {
        "cell": "c7fdfc6d-8c06-4835-8236-24aaeb438388",
        "part": "whole"
       },
       "id": "ed9e2ede-dbcf-42ef-8a8d-47bddd635dc1"
      }
     }
    },
    "8f735d4f-3c9b-44e3-9414-7680908cdf3a": {
     "id": "8f735d4f-3c9b-44e3-9414-7680908cdf3a",
     "prev": "78608786-aa9e-4ce0-81d9-8d48c1553d02",
     "regions": {
      "032cfcc0-ec63-48c5-acdc-cee71511f49c": {
       "attrs": {
        "height": 0.8,
        "width": 0.8,
        "x": 0.1,
        "y": 0.1
       },
       "content": {
        "cell": "63cebdaf-44b4-4b62-8ec7-e8b27d3f4643",
        "part": "whole"
       },
       "id": "032cfcc0-ec63-48c5-acdc-cee71511f49c"
      }
     }
    },
    "97fda702-0cfd-48fe-ad72-d5b74d20cac6": {
     "id": "97fda702-0cfd-48fe-ad72-d5b74d20cac6",
     "prev": "20e2ea94-8bde-4e2e-869f-1d6bbe393071",
     "regions": {
      "4f588079-5717-4782-be8f-bf3680edaf4a": {
       "attrs": {
        "height": 0.8,
        "width": 0.8,
        "x": 0.1,
        "y": 0.1
       },
       "content": {
        "cell": "24fb7d2c-b3c5-479b-a024-525a79adf027",
        "part": "whole"
       },
       "id": "4f588079-5717-4782-be8f-bf3680edaf4a"
      }
     }
    },
    "9fe51790-6546-4353-8169-ca93e52d6d8b": {
     "id": "9fe51790-6546-4353-8169-ca93e52d6d8b",
     "prev": "2f86fdc0-7d42-4666-b0a6-b85281869706",
     "regions": {
      "989c0c1c-2339-4642-ad8b-3313bcf27fee": {
       "attrs": {
        "height": 0.8,
        "width": 0.8,
        "x": 0.1,
        "y": 0.1
       },
       "content": {
        "cell": "a94a8427-f967-4b09-bfb5-68a6fe5acd49",
        "part": "whole"
       },
       "id": "989c0c1c-2339-4642-ad8b-3313bcf27fee"
      }
     }
    },
    "a3010984-8710-4861-9d63-22abc55c3b39": {
     "id": "a3010984-8710-4861-9d63-22abc55c3b39",
     "prev": "71682fc3-9f28-4e30-bed1-f0ef1bf01525",
     "regions": {
      "774bc26c-a579-4a1d-b879-07ba2e746350": {
       "attrs": {
        "height": 0.8,
        "width": 0.8,
        "x": 0.1,
        "y": 0.1
       },
       "content": {
        "cell": "0cf9367d-aadb-43e2-bb72-b5eaf3d74f3c",
        "part": "whole"
       },
       "id": "774bc26c-a579-4a1d-b879-07ba2e746350"
      }
     }
    },
    "a4ca6746-ff9c-4135-a694-d706e5f35325": {
     "id": "a4ca6746-ff9c-4135-a694-d706e5f35325",
     "prev": "d1f9ea1a-6997-4707-a9f9-78de4649706d",
     "regions": {
      "587b9802-1e8a-4e2a-a1e5-c1f6634c483b": {
       "attrs": {
        "height": 0.8,
        "width": 0.8,
        "x": 0.1,
        "y": 0.1
       },
       "content": {
        "cell": "a324f134-1531-4ec6-b374-b3fbe462b2cd",
        "part": "whole"
       },
       "id": "587b9802-1e8a-4e2a-a1e5-c1f6634c483b"
      }
     }
    },
    "a50bd961-807a-4731-96f5-951587a5192f": {
     "id": "a50bd961-807a-4731-96f5-951587a5192f",
     "prev": "36b539b4-03d7-4575-84a3-a6222a771deb",
     "regions": {
      "73ba5fbe-4784-4bd5-bb4e-e59b48be5863": {
       "attrs": {
        "height": 0.8,
        "width": 0.8,
        "x": 0.1,
        "y": 0.1
       },
       "content": {
        "cell": "ae03af8c-dc44-4211-bb4e-317428b1ff6d",
        "part": "whole"
       },
       "id": "73ba5fbe-4784-4bd5-bb4e-e59b48be5863"
      }
     }
    },
    "a63bce4e-01c7-4923-a860-23846caadb87": {
     "id": "a63bce4e-01c7-4923-a860-23846caadb87",
     "prev": "651df831-621d-4b46-8fbb-d877c10b1ed2",
     "regions": {
      "aea5e647-4250-48a7-9089-0c3bf47d8135": {
       "attrs": {
        "height": 0.8,
        "width": 0.8,
        "x": 0.1,
        "y": 0.1
       },
       "content": {
        "cell": "9a2dc48c-805b-471a-bb8e-5746f1275d22",
        "part": "whole"
       },
       "id": "aea5e647-4250-48a7-9089-0c3bf47d8135"
      }
     }
    },
    "a7602490-653c-4812-8add-21382f72a026": {
     "id": "a7602490-653c-4812-8add-21382f72a026",
     "prev": "afab7259-05e1-436b-b388-6e2ac6290898",
     "regions": {
      "82668b25-13e3-40b6-80fe-126892f56d96": {
       "attrs": {
        "height": 0.8,
        "width": 0.8,
        "x": 0.1,
        "y": 0.1
       },
       "content": {
        "cell": "b7fa1f45-fcd8-4004-90ab-0e11bd8751d7",
        "part": "whole"
       },
       "id": "82668b25-13e3-40b6-80fe-126892f56d96"
      }
     }
    },
    "ac078420-eb15-49c4-bde5-7bc27ba4eb07": {
     "id": "ac078420-eb15-49c4-bde5-7bc27ba4eb07",
     "prev": "c22078f9-91af-4e7e-b721-61609f61cd5f",
     "regions": {
      "7ef83d3c-b713-432a-9677-c910c06cef14": {
       "attrs": {
        "height": 0.8,
        "width": 0.8,
        "x": 0.1,
        "y": 0.1
       },
       "content": {
        "cell": "fecd7f26-4fae-4c0d-94b4-6bad90f77ba5",
        "part": "whole"
       },
       "id": "7ef83d3c-b713-432a-9677-c910c06cef14"
      }
     }
    },
    "afab7259-05e1-436b-b388-6e2ac6290898": {
     "id": "afab7259-05e1-436b-b388-6e2ac6290898",
     "prev": "eb2a84ca-6699-4754-abc8-4527941dbf34",
     "regions": {
      "51bd0a93-a5d7-4b2d-a092-757e4c5289fd": {
       "attrs": {
        "height": 0.8,
        "width": 0.8,
        "x": 0.1,
        "y": 0.1
       },
       "content": {
        "cell": "c671e03c-0506-4721-982f-29a258cd8df7",
        "part": "whole"
       },
       "id": "51bd0a93-a5d7-4b2d-a092-757e4c5289fd"
      }
     }
    },
    "b174e663-01b9-4b24-9b5d-8febde8e92cb": {
     "id": "b174e663-01b9-4b24-9b5d-8febde8e92cb",
     "prev": "0373634a-5d09-441b-9d06-e4d61d06ca5d",
     "regions": {
      "dbea22a3-da33-45b8-9554-b270296155fb": {
       "attrs": {
        "height": 0.8,
        "width": 0.8,
        "x": 0.1,
        "y": 0.1
       },
       "content": {
        "cell": "2dbfc993-7755-4898-8d12-1cefa1cfe55c",
        "part": "whole"
       },
       "id": "dbea22a3-da33-45b8-9554-b270296155fb"
      }
     }
    },
    "b3f1e44a-8d66-4b26-adf5-34784ac7a86d": {
     "id": "b3f1e44a-8d66-4b26-adf5-34784ac7a86d",
     "prev": "46af3b1a-b92e-4248-b7e3-cf72856b3772",
     "regions": {
      "f7a5740c-2542-4ef5-9c1e-305fb3efbdc2": {
       "attrs": {
        "height": 0.8,
        "width": 0.8,
        "x": 0.1,
        "y": 0.1
       },
       "content": {
        "cell": "9819d9ca-84c3-40b0-9974-4ee116fd818a",
        "part": "whole"
       },
       "id": "f7a5740c-2542-4ef5-9c1e-305fb3efbdc2"
      }
     }
    },
    "bed0a2b9-19d9-4012-ae9c-2b0be2d8d794": {
     "id": "bed0a2b9-19d9-4012-ae9c-2b0be2d8d794",
     "prev": "97fda702-0cfd-48fe-ad72-d5b74d20cac6",
     "regions": {
      "2ade0c52-df13-4530-aebf-46b409b4b8ac": {
       "attrs": {
        "height": 0.8,
        "width": 0.8,
        "x": 0.1,
        "y": 0.1
       },
       "content": {
        "cell": "189ac101-dd19-4094-a920-4fd586a1a0f7",
        "part": "whole"
       },
       "id": "2ade0c52-df13-4530-aebf-46b409b4b8ac"
      }
     }
    },
    "c22078f9-91af-4e7e-b721-61609f61cd5f": {
     "id": "c22078f9-91af-4e7e-b721-61609f61cd5f",
     "prev": "8f735d4f-3c9b-44e3-9414-7680908cdf3a",
     "regions": {
      "b8f413b4-92fe-4048-8069-0830bc352cb9": {
       "attrs": {
        "height": 0.8,
        "width": 0.8,
        "x": 0.1,
        "y": 0.1
       },
       "content": {
        "cell": "17cc3a00-3080-4ffe-a2e9-d1d787fd17c7",
        "part": "whole"
       },
       "id": "b8f413b4-92fe-4048-8069-0830bc352cb9"
      }
     }
    },
    "c3ad25c5-2fdd-4245-a86b-cb2a414f662a": {
     "id": "c3ad25c5-2fdd-4245-a86b-cb2a414f662a",
     "prev": "2744802a-a861-4677-9664-559147891570",
     "regions": {
      "c1d669b6-b0db-45c3-8b16-2389a6b1cc66": {
       "attrs": {
        "height": 0.8,
        "width": 0.8,
        "x": 0.1,
        "y": 0.1
       },
       "content": {
        "cell": "83e665a2-5353-4185-8218-4385ab24cf04",
        "part": "whole"
       },
       "id": "c1d669b6-b0db-45c3-8b16-2389a6b1cc66"
      }
     }
    },
    "c99dc494-53c0-4090-8149-fbb304e06119": {
     "id": "c99dc494-53c0-4090-8149-fbb304e06119",
     "prev": "e0cc37e2-a030-4698-9c53-373d592b0596",
     "regions": {
      "3e73c94b-228a-46f5-9c7a-12badb55db9f": {
       "attrs": {
        "height": 0.8,
        "width": 0.8,
        "x": 0.1,
        "y": 0.1
       },
       "content": {
        "cell": "ed405c00-cadf-4e71-9ecd-01eaf9e952c9",
        "part": "whole"
       },
       "id": "3e73c94b-228a-46f5-9c7a-12badb55db9f"
      }
     }
    },
    "cc08a64a-1d39-44d4-8b01-4ea647edbfa6": {
     "id": "cc08a64a-1d39-44d4-8b01-4ea647edbfa6",
     "prev": "e7a82b20-ca52-4ff2-b54d-5d33d5de3a55",
     "regions": {
      "e9edc9a9-1b3d-4b23-92e9-672d8d3f417d": {
       "attrs": {
        "height": 0.8,
        "width": 0.8,
        "x": 0.1,
        "y": 0.1
       },
       "content": {
        "cell": "185ec221-245b-45a7-8527-50d5784c23fa",
        "part": "whole"
       },
       "id": "e9edc9a9-1b3d-4b23-92e9-672d8d3f417d"
      }
     }
    },
    "d1f9ea1a-6997-4707-a9f9-78de4649706d": {
     "id": "d1f9ea1a-6997-4707-a9f9-78de4649706d",
     "prev": "36ddb5f2-765d-483a-b288-ce05871ed3cd",
     "regions": {
      "e3134944-0eb1-46a3-992c-f3f44c4688e2": {
       "attrs": {
        "height": 0.8,
        "width": 0.8,
        "x": 0.1,
        "y": 0.1
       },
       "content": {
        "cell": "67d5b1b7-35a2-42f0-bb27-8189fe341f56",
        "part": "whole"
       },
       "id": "e3134944-0eb1-46a3-992c-f3f44c4688e2"
      }
     }
    },
    "d2d5c44d-2ee5-45be-b757-570096096e9b": {
     "id": "d2d5c44d-2ee5-45be-b757-570096096e9b",
     "prev": "605e2d91-a856-4400-ba25-00f614454323",
     "regions": {
      "52bea7b3-7c6a-41d5-8dbb-245b19a657a6": {
       "attrs": {
        "height": 0.8,
        "width": 0.8,
        "x": 0.1,
        "y": 0.1
       },
       "content": {
        "cell": "573b70c9-b073-4b74-aa32-6c9a30baba72",
        "part": "whole"
       },
       "id": "52bea7b3-7c6a-41d5-8dbb-245b19a657a6"
      }
     }
    },
    "d35c7ee8-5694-41e2-b6f5-151174e0ce68": {
     "id": "d35c7ee8-5694-41e2-b6f5-151174e0ce68",
     "prev": "673ed8ec-2c98-4300-a387-983cb31458e3",
     "regions": {
      "279f4af1-d9dd-4ba5-8397-4ef995ba075f": {
       "attrs": {
        "height": 0.8,
        "width": 0.8,
        "x": 0.1,
        "y": 0.1
       },
       "content": {
        "cell": "9b1f1a2c-92b2-425f-962f-0f5615378c4c",
        "part": "whole"
       },
       "id": "279f4af1-d9dd-4ba5-8397-4ef995ba075f"
      }
     }
    },
    "d7aa5125-717b-41e3-a592-60d8a631148c": {
     "id": "d7aa5125-717b-41e3-a592-60d8a631148c",
     "prev": "d35c7ee8-5694-41e2-b6f5-151174e0ce68",
     "regions": {
      "b41a1d94-dfe0-4716-a8aa-44c0852b8e67": {
       "attrs": {
        "height": 0.8,
        "width": 0.8,
        "x": 0.1,
        "y": 0.1
       },
       "content": {
        "cell": "e8b3ad07-9618-41f5-9752-4ac10b0617ab",
        "part": "whole"
       },
       "id": "b41a1d94-dfe0-4716-a8aa-44c0852b8e67"
      }
     },
     "theme": null
    },
    "db10147c-c0ce-4f70-8d43-ff60b1aca69b": {
     "id": "db10147c-c0ce-4f70-8d43-ff60b1aca69b",
     "prev": "2afbb49e-2a03-4969-b363-028be2080bc1",
     "regions": {
      "a82f3d74-fb5b-44e0-972d-173eec6ed9a3": {
       "attrs": {
        "height": 0.8,
        "width": 0.8,
        "x": 0.1,
        "y": 0.1
       },
       "content": {
        "cell": "8c911895-46e0-4aad-864a-d0f250887040",
        "part": "whole"
       },
       "id": "a82f3d74-fb5b-44e0-972d-173eec6ed9a3"
      }
     }
    },
    "df5d6a59-c2ef-4b5e-b417-3bab10827844": {
     "id": "df5d6a59-c2ef-4b5e-b417-3bab10827844",
     "prev": "821cabcb-28ad-47bb-8c19-2e25abe4e0eb",
     "regions": {
      "3ea1cadf-245f-4005-b4e6-550a7c25ce9d": {
       "attrs": {
        "height": 0.8,
        "width": 0.8,
        "x": 0.1,
        "y": 0.1
       },
       "content": {
        "cell": "af5c3082-3fc5-4eba-8667-735af05f2e6f",
        "part": "whole"
       },
       "id": "3ea1cadf-245f-4005-b4e6-550a7c25ce9d"
      }
     }
    },
    "e0cc37e2-a030-4698-9c53-373d592b0596": {
     "id": "e0cc37e2-a030-4698-9c53-373d592b0596",
     "prev": "a63bce4e-01c7-4923-a860-23846caadb87",
     "regions": {
      "79611f54-c05b-4db1-9ae8-6bccd0ef505f": {
       "attrs": {
        "height": 0.8,
        "width": 0.8,
        "x": 0.1,
        "y": 0.1
       },
       "content": {
        "cell": "690d1f4b-3ddf-4614-a1a3-34a254a02c86",
        "part": "whole"
       },
       "id": "79611f54-c05b-4db1-9ae8-6bccd0ef505f"
      }
     }
    },
    "e0f57ace-af0b-4924-84f6-f6433e684fae": {
     "id": "e0f57ace-af0b-4924-84f6-f6433e684fae",
     "prev": "0eb33912-853e-4a56-932f-42b66a1c62b7",
     "regions": {
      "0436e353-10a2-4ca3-9030-66bff032674b": {
       "attrs": {
        "height": 0.8,
        "width": 0.8,
        "x": 0.1,
        "y": 0.1
       },
       "content": {
        "cell": "8932bd89-4f38-40e8-897a-e0423c02b2a4",
        "part": "whole"
       },
       "id": "0436e353-10a2-4ca3-9030-66bff032674b"
      }
     }
    },
    "e2c07b4c-4e21-473d-9860-cfad0d48f22a": {
     "id": "e2c07b4c-4e21-473d-9860-cfad0d48f22a",
     "prev": "4fd96ea6-d19a-49b1-bf98-467b4227e923",
     "regions": {
      "5f3eab8c-6faf-4a0b-b31b-f003e4f71106": {
       "attrs": {
        "height": 0.8,
        "width": 0.8,
        "x": 0.1,
        "y": 0.1
       },
       "content": {
        "cell": "7c50f0fd-976b-4201-aedf-fa3218c8a98f",
        "part": "whole"
       },
       "id": "5f3eab8c-6faf-4a0b-b31b-f003e4f71106"
      }
     }
    },
    "e7a82b20-ca52-4ff2-b54d-5d33d5de3a55": {
     "id": "e7a82b20-ca52-4ff2-b54d-5d33d5de3a55",
     "prev": "47c5b31d-9ecf-4815-a487-56454ab289e5",
     "regions": {
      "50e40e57-8b19-4f59-b633-5b0cb8eb74ab": {
       "attrs": {
        "height": 0.8,
        "width": 0.8,
        "x": 0.1,
        "y": 0.1
       },
       "content": {
        "cell": "9fc8c877-2596-4e5b-90bf-85a96f38b92a",
        "part": "whole"
       },
       "id": "50e40e57-8b19-4f59-b633-5b0cb8eb74ab"
      }
     }
    },
    "eb2a84ca-6699-4754-abc8-4527941dbf34": {
     "id": "eb2a84ca-6699-4754-abc8-4527941dbf34",
     "prev": "4a36c1ab-88c7-4aae-9085-6966f7df3a14",
     "regions": {
      "1249c632-fc5f-4007-9174-b149761912b7": {
       "attrs": {
        "height": 0.8,
        "width": 0.8,
        "x": 0.1,
        "y": 0.1
       },
       "content": {
        "cell": "447afee6-8a6d-425a-8e4e-09a106888476",
        "part": "whole"
       },
       "id": "1249c632-fc5f-4007-9174-b149761912b7"
      }
     }
    },
    "ee0d37a5-4701-49c7-b12b-68b73c8ab354": {
     "id": "ee0d37a5-4701-49c7-b12b-68b73c8ab354",
     "prev": "7817f413-e630-4013-af64-6aac593cd24e",
     "regions": {
      "9266c4d1-73c8-42e1-97de-752cf4e57832": {
       "attrs": {
        "height": 0.8,
        "width": 0.8,
        "x": 0.1,
        "y": 0.1
       },
       "content": {
        "cell": "2d809221-ea7c-417e-9435-76085285c2db",
        "part": "whole"
       },
       "id": "9266c4d1-73c8-42e1-97de-752cf4e57832"
      }
     }
    },
    "ee77ab3d-629d-469a-958d-b35e5d4e9063": {
     "id": "ee77ab3d-629d-469a-958d-b35e5d4e9063",
     "prev": "cc08a64a-1d39-44d4-8b01-4ea647edbfa6",
     "regions": {
      "9ecd1c95-87b7-4521-a422-f49905c2636b": {
       "attrs": {
        "height": 0.8,
        "width": 0.8,
        "x": 0.1,
        "y": 0.1
       },
       "content": {
        "cell": "3f5471d2-2caf-45f6-b21f-7849a908cb63",
        "part": "whole"
       },
       "id": "9ecd1c95-87b7-4521-a422-f49905c2636b"
      }
     }
    },
    "f0593f4e-73f0-4164-b1e1-6e5a6cf95bf8": {
     "id": "f0593f4e-73f0-4164-b1e1-6e5a6cf95bf8",
     "prev": "41001a1b-c6c3-48d2-970b-75921bb7dfa8",
     "regions": {
      "ae9e5221-53b4-4953-a251-21814d803df7": {
       "attrs": {
        "height": 0.8,
        "width": 0.8,
        "x": 0.1,
        "y": 0.1
       },
       "content": {
        "cell": "bcc157db-7566-4359-a093-b03ae7b355d3",
        "part": "whole"
       },
       "id": "ae9e5221-53b4-4953-a251-21814d803df7"
      }
     }
    },
    "f90f1b28-2ef9-4737-8f44-f06670b8fa68": {
     "id": "f90f1b28-2ef9-4737-8f44-f06670b8fa68",
     "prev": "ee0d37a5-4701-49c7-b12b-68b73c8ab354",
     "regions": {
      "10159de4-9b3b-4046-ad34-09790419826c": {
       "attrs": {
        "height": 0.8,
        "width": 0.8,
        "x": 0.1,
        "y": 0.1
       },
       "content": {
        "cell": "a4346b1c-e6fd-4db2-b4cb-4119de073e1e",
        "part": "whole"
       },
       "id": "10159de4-9b3b-4046-ad34-09790419826c"
      }
     }
    }
   },
   "themes": {}
  }
 },
 "nbformat": 4,
 "nbformat_minor": 0
}
